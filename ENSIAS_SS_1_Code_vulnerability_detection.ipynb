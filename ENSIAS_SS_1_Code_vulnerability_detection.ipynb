{
  "metadata": {
    "kernelspec": {
      "display_name": "Python 3",
      "name": "python3"
    },
    "language_info": {
      "name": "python",
      "version": "3.10.12",
      "mimetype": "text/x-python",
      "codemirror_mode": {
        "name": "ipython",
        "version": 3
      },
      "pygments_lexer": "ipython3",
      "nbconvert_exporter": "python",
      "file_extension": ".py"
    },
    "kaggle": {
      "accelerator": "gpu",
      "dataSources": [
        {
          "sourceId": 3561015,
          "sourceType": "datasetVersion",
          "datasetId": 2140221
        }
      ],
      "dockerImageVersionId": 30616,
      "isInternetEnabled": true,
      "language": "python",
      "sourceType": "notebook",
      "isGpuEnabled": true
    },
    "colab": {
      "provenance": [],
      "gpuType": "T4",
      "toc_visible": true,
      "include_colab_link": true
    },
    "accelerator": "GPU",
    "widgets": {
      "application/vnd.jupyter.widget-state+json": {
        "59c7e603f16242c480fd30802d327e02": {
          "model_module": "@jupyter-widgets/controls",
          "model_name": "HBoxModel",
          "model_module_version": "1.5.0",
          "state": {
            "_dom_classes": [],
            "_model_module": "@jupyter-widgets/controls",
            "_model_module_version": "1.5.0",
            "_model_name": "HBoxModel",
            "_view_count": null,
            "_view_module": "@jupyter-widgets/controls",
            "_view_module_version": "1.5.0",
            "_view_name": "HBoxView",
            "box_style": "",
            "children": [
              "IPY_MODEL_5ea19221694b4b50bd9bdbb88cab989e",
              "IPY_MODEL_8fd8cace931b4cb4881532af0a60dad7",
              "IPY_MODEL_7355131bae6d42c2a256784885b5cea8"
            ],
            "layout": "IPY_MODEL_1b013f6e9eb04913bc070b9761a9fe67"
          }
        },
        "5ea19221694b4b50bd9bdbb88cab989e": {
          "model_module": "@jupyter-widgets/controls",
          "model_name": "HTMLModel",
          "model_module_version": "1.5.0",
          "state": {
            "_dom_classes": [],
            "_model_module": "@jupyter-widgets/controls",
            "_model_module_version": "1.5.0",
            "_model_name": "HTMLModel",
            "_view_count": null,
            "_view_module": "@jupyter-widgets/controls",
            "_view_module_version": "1.5.0",
            "_view_name": "HTMLView",
            "description": "",
            "description_tooltip": null,
            "layout": "IPY_MODEL_a3d81d34508443bbb6c237a4e47722df",
            "placeholder": "​",
            "style": "IPY_MODEL_7ba8b53d9eb145059c23265555ded123",
            "value": "Map: 100%"
          }
        },
        "8fd8cace931b4cb4881532af0a60dad7": {
          "model_module": "@jupyter-widgets/controls",
          "model_name": "FloatProgressModel",
          "model_module_version": "1.5.0",
          "state": {
            "_dom_classes": [],
            "_model_module": "@jupyter-widgets/controls",
            "_model_module_version": "1.5.0",
            "_model_name": "FloatProgressModel",
            "_view_count": null,
            "_view_module": "@jupyter-widgets/controls",
            "_view_module_version": "1.5.0",
            "_view_name": "ProgressView",
            "bar_style": "success",
            "description": "",
            "description_tooltip": null,
            "layout": "IPY_MODEL_2ba0c435c1bb454ca995c3e77c71fc2a",
            "max": 3600,
            "min": 0,
            "orientation": "horizontal",
            "style": "IPY_MODEL_0f398ef6af8c4af2bd482e46ef16633b",
            "value": 3600
          }
        },
        "7355131bae6d42c2a256784885b5cea8": {
          "model_module": "@jupyter-widgets/controls",
          "model_name": "HTMLModel",
          "model_module_version": "1.5.0",
          "state": {
            "_dom_classes": [],
            "_model_module": "@jupyter-widgets/controls",
            "_model_module_version": "1.5.0",
            "_model_name": "HTMLModel",
            "_view_count": null,
            "_view_module": "@jupyter-widgets/controls",
            "_view_module_version": "1.5.0",
            "_view_name": "HTMLView",
            "description": "",
            "description_tooltip": null,
            "layout": "IPY_MODEL_2df0f47f92bc4deebecaf62f964a4347",
            "placeholder": "​",
            "style": "IPY_MODEL_436164b0eff146079b0684316628d5cb",
            "value": " 3600/3600 [00:14&lt;00:00, 249.28 examples/s]"
          }
        },
        "1b013f6e9eb04913bc070b9761a9fe67": {
          "model_module": "@jupyter-widgets/base",
          "model_name": "LayoutModel",
          "model_module_version": "1.2.0",
          "state": {
            "_model_module": "@jupyter-widgets/base",
            "_model_module_version": "1.2.0",
            "_model_name": "LayoutModel",
            "_view_count": null,
            "_view_module": "@jupyter-widgets/base",
            "_view_module_version": "1.2.0",
            "_view_name": "LayoutView",
            "align_content": null,
            "align_items": null,
            "align_self": null,
            "border": null,
            "bottom": null,
            "display": null,
            "flex": null,
            "flex_flow": null,
            "grid_area": null,
            "grid_auto_columns": null,
            "grid_auto_flow": null,
            "grid_auto_rows": null,
            "grid_column": null,
            "grid_gap": null,
            "grid_row": null,
            "grid_template_areas": null,
            "grid_template_columns": null,
            "grid_template_rows": null,
            "height": null,
            "justify_content": null,
            "justify_items": null,
            "left": null,
            "margin": null,
            "max_height": null,
            "max_width": null,
            "min_height": null,
            "min_width": null,
            "object_fit": null,
            "object_position": null,
            "order": null,
            "overflow": null,
            "overflow_x": null,
            "overflow_y": null,
            "padding": null,
            "right": null,
            "top": null,
            "visibility": null,
            "width": null
          }
        },
        "a3d81d34508443bbb6c237a4e47722df": {
          "model_module": "@jupyter-widgets/base",
          "model_name": "LayoutModel",
          "model_module_version": "1.2.0",
          "state": {
            "_model_module": "@jupyter-widgets/base",
            "_model_module_version": "1.2.0",
            "_model_name": "LayoutModel",
            "_view_count": null,
            "_view_module": "@jupyter-widgets/base",
            "_view_module_version": "1.2.0",
            "_view_name": "LayoutView",
            "align_content": null,
            "align_items": null,
            "align_self": null,
            "border": null,
            "bottom": null,
            "display": null,
            "flex": null,
            "flex_flow": null,
            "grid_area": null,
            "grid_auto_columns": null,
            "grid_auto_flow": null,
            "grid_auto_rows": null,
            "grid_column": null,
            "grid_gap": null,
            "grid_row": null,
            "grid_template_areas": null,
            "grid_template_columns": null,
            "grid_template_rows": null,
            "height": null,
            "justify_content": null,
            "justify_items": null,
            "left": null,
            "margin": null,
            "max_height": null,
            "max_width": null,
            "min_height": null,
            "min_width": null,
            "object_fit": null,
            "object_position": null,
            "order": null,
            "overflow": null,
            "overflow_x": null,
            "overflow_y": null,
            "padding": null,
            "right": null,
            "top": null,
            "visibility": null,
            "width": null
          }
        },
        "7ba8b53d9eb145059c23265555ded123": {
          "model_module": "@jupyter-widgets/controls",
          "model_name": "DescriptionStyleModel",
          "model_module_version": "1.5.0",
          "state": {
            "_model_module": "@jupyter-widgets/controls",
            "_model_module_version": "1.5.0",
            "_model_name": "DescriptionStyleModel",
            "_view_count": null,
            "_view_module": "@jupyter-widgets/base",
            "_view_module_version": "1.2.0",
            "_view_name": "StyleView",
            "description_width": ""
          }
        },
        "2ba0c435c1bb454ca995c3e77c71fc2a": {
          "model_module": "@jupyter-widgets/base",
          "model_name": "LayoutModel",
          "model_module_version": "1.2.0",
          "state": {
            "_model_module": "@jupyter-widgets/base",
            "_model_module_version": "1.2.0",
            "_model_name": "LayoutModel",
            "_view_count": null,
            "_view_module": "@jupyter-widgets/base",
            "_view_module_version": "1.2.0",
            "_view_name": "LayoutView",
            "align_content": null,
            "align_items": null,
            "align_self": null,
            "border": null,
            "bottom": null,
            "display": null,
            "flex": null,
            "flex_flow": null,
            "grid_area": null,
            "grid_auto_columns": null,
            "grid_auto_flow": null,
            "grid_auto_rows": null,
            "grid_column": null,
            "grid_gap": null,
            "grid_row": null,
            "grid_template_areas": null,
            "grid_template_columns": null,
            "grid_template_rows": null,
            "height": null,
            "justify_content": null,
            "justify_items": null,
            "left": null,
            "margin": null,
            "max_height": null,
            "max_width": null,
            "min_height": null,
            "min_width": null,
            "object_fit": null,
            "object_position": null,
            "order": null,
            "overflow": null,
            "overflow_x": null,
            "overflow_y": null,
            "padding": null,
            "right": null,
            "top": null,
            "visibility": null,
            "width": null
          }
        },
        "0f398ef6af8c4af2bd482e46ef16633b": {
          "model_module": "@jupyter-widgets/controls",
          "model_name": "ProgressStyleModel",
          "model_module_version": "1.5.0",
          "state": {
            "_model_module": "@jupyter-widgets/controls",
            "_model_module_version": "1.5.0",
            "_model_name": "ProgressStyleModel",
            "_view_count": null,
            "_view_module": "@jupyter-widgets/base",
            "_view_module_version": "1.2.0",
            "_view_name": "StyleView",
            "bar_color": null,
            "description_width": ""
          }
        },
        "2df0f47f92bc4deebecaf62f964a4347": {
          "model_module": "@jupyter-widgets/base",
          "model_name": "LayoutModel",
          "model_module_version": "1.2.0",
          "state": {
            "_model_module": "@jupyter-widgets/base",
            "_model_module_version": "1.2.0",
            "_model_name": "LayoutModel",
            "_view_count": null,
            "_view_module": "@jupyter-widgets/base",
            "_view_module_version": "1.2.0",
            "_view_name": "LayoutView",
            "align_content": null,
            "align_items": null,
            "align_self": null,
            "border": null,
            "bottom": null,
            "display": null,
            "flex": null,
            "flex_flow": null,
            "grid_area": null,
            "grid_auto_columns": null,
            "grid_auto_flow": null,
            "grid_auto_rows": null,
            "grid_column": null,
            "grid_gap": null,
            "grid_row": null,
            "grid_template_areas": null,
            "grid_template_columns": null,
            "grid_template_rows": null,
            "height": null,
            "justify_content": null,
            "justify_items": null,
            "left": null,
            "margin": null,
            "max_height": null,
            "max_width": null,
            "min_height": null,
            "min_width": null,
            "object_fit": null,
            "object_position": null,
            "order": null,
            "overflow": null,
            "overflow_x": null,
            "overflow_y": null,
            "padding": null,
            "right": null,
            "top": null,
            "visibility": null,
            "width": null
          }
        },
        "436164b0eff146079b0684316628d5cb": {
          "model_module": "@jupyter-widgets/controls",
          "model_name": "DescriptionStyleModel",
          "model_module_version": "1.5.0",
          "state": {
            "_model_module": "@jupyter-widgets/controls",
            "_model_module_version": "1.5.0",
            "_model_name": "DescriptionStyleModel",
            "_view_count": null,
            "_view_module": "@jupyter-widgets/base",
            "_view_module_version": "1.2.0",
            "_view_name": "StyleView",
            "description_width": ""
          }
        },
        "e933e0ad1e4b4778bb0f3f7be71e6300": {
          "model_module": "@jupyter-widgets/controls",
          "model_name": "HBoxModel",
          "model_module_version": "1.5.0",
          "state": {
            "_dom_classes": [],
            "_model_module": "@jupyter-widgets/controls",
            "_model_module_version": "1.5.0",
            "_model_name": "HBoxModel",
            "_view_count": null,
            "_view_module": "@jupyter-widgets/controls",
            "_view_module_version": "1.5.0",
            "_view_name": "HBoxView",
            "box_style": "",
            "children": [
              "IPY_MODEL_24519a080f02474591dbfce0c79481f3",
              "IPY_MODEL_5ddf7dc0657d49fe99d2122cc9887801",
              "IPY_MODEL_54930d12d4aa464f9ea366cf4543428b"
            ],
            "layout": "IPY_MODEL_f671891aad844b38be96fac40b1e82e7"
          }
        },
        "24519a080f02474591dbfce0c79481f3": {
          "model_module": "@jupyter-widgets/controls",
          "model_name": "HTMLModel",
          "model_module_version": "1.5.0",
          "state": {
            "_dom_classes": [],
            "_model_module": "@jupyter-widgets/controls",
            "_model_module_version": "1.5.0",
            "_model_name": "HTMLModel",
            "_view_count": null,
            "_view_module": "@jupyter-widgets/controls",
            "_view_module_version": "1.5.0",
            "_view_name": "HTMLView",
            "description": "",
            "description_tooltip": null,
            "layout": "IPY_MODEL_cf616f6df406490eba4d53c3c85da393",
            "placeholder": "​",
            "style": "IPY_MODEL_e06fadd990bb4d72b686b1f187e3eb5a",
            "value": "Map: 100%"
          }
        },
        "5ddf7dc0657d49fe99d2122cc9887801": {
          "model_module": "@jupyter-widgets/controls",
          "model_name": "FloatProgressModel",
          "model_module_version": "1.5.0",
          "state": {
            "_dom_classes": [],
            "_model_module": "@jupyter-widgets/controls",
            "_model_module_version": "1.5.0",
            "_model_name": "FloatProgressModel",
            "_view_count": null,
            "_view_module": "@jupyter-widgets/controls",
            "_view_module_version": "1.5.0",
            "_view_name": "ProgressView",
            "bar_style": "success",
            "description": "",
            "description_tooltip": null,
            "layout": "IPY_MODEL_e8c7e728013940ed8257bdf5cb9a1c1e",
            "max": 400,
            "min": 0,
            "orientation": "horizontal",
            "style": "IPY_MODEL_aaaef6dd85944025a886496b49d3a403",
            "value": 400
          }
        },
        "54930d12d4aa464f9ea366cf4543428b": {
          "model_module": "@jupyter-widgets/controls",
          "model_name": "HTMLModel",
          "model_module_version": "1.5.0",
          "state": {
            "_dom_classes": [],
            "_model_module": "@jupyter-widgets/controls",
            "_model_module_version": "1.5.0",
            "_model_name": "HTMLModel",
            "_view_count": null,
            "_view_module": "@jupyter-widgets/controls",
            "_view_module_version": "1.5.0",
            "_view_name": "HTMLView",
            "description": "",
            "description_tooltip": null,
            "layout": "IPY_MODEL_4d7cb04b4c004a739f995e316f59d0fe",
            "placeholder": "​",
            "style": "IPY_MODEL_1c13a8a943b94280a479cf345598e07b",
            "value": " 400/400 [00:01&lt;00:00, 229.27 examples/s]"
          }
        },
        "f671891aad844b38be96fac40b1e82e7": {
          "model_module": "@jupyter-widgets/base",
          "model_name": "LayoutModel",
          "model_module_version": "1.2.0",
          "state": {
            "_model_module": "@jupyter-widgets/base",
            "_model_module_version": "1.2.0",
            "_model_name": "LayoutModel",
            "_view_count": null,
            "_view_module": "@jupyter-widgets/base",
            "_view_module_version": "1.2.0",
            "_view_name": "LayoutView",
            "align_content": null,
            "align_items": null,
            "align_self": null,
            "border": null,
            "bottom": null,
            "display": null,
            "flex": null,
            "flex_flow": null,
            "grid_area": null,
            "grid_auto_columns": null,
            "grid_auto_flow": null,
            "grid_auto_rows": null,
            "grid_column": null,
            "grid_gap": null,
            "grid_row": null,
            "grid_template_areas": null,
            "grid_template_columns": null,
            "grid_template_rows": null,
            "height": null,
            "justify_content": null,
            "justify_items": null,
            "left": null,
            "margin": null,
            "max_height": null,
            "max_width": null,
            "min_height": null,
            "min_width": null,
            "object_fit": null,
            "object_position": null,
            "order": null,
            "overflow": null,
            "overflow_x": null,
            "overflow_y": null,
            "padding": null,
            "right": null,
            "top": null,
            "visibility": null,
            "width": null
          }
        },
        "cf616f6df406490eba4d53c3c85da393": {
          "model_module": "@jupyter-widgets/base",
          "model_name": "LayoutModel",
          "model_module_version": "1.2.0",
          "state": {
            "_model_module": "@jupyter-widgets/base",
            "_model_module_version": "1.2.0",
            "_model_name": "LayoutModel",
            "_view_count": null,
            "_view_module": "@jupyter-widgets/base",
            "_view_module_version": "1.2.0",
            "_view_name": "LayoutView",
            "align_content": null,
            "align_items": null,
            "align_self": null,
            "border": null,
            "bottom": null,
            "display": null,
            "flex": null,
            "flex_flow": null,
            "grid_area": null,
            "grid_auto_columns": null,
            "grid_auto_flow": null,
            "grid_auto_rows": null,
            "grid_column": null,
            "grid_gap": null,
            "grid_row": null,
            "grid_template_areas": null,
            "grid_template_columns": null,
            "grid_template_rows": null,
            "height": null,
            "justify_content": null,
            "justify_items": null,
            "left": null,
            "margin": null,
            "max_height": null,
            "max_width": null,
            "min_height": null,
            "min_width": null,
            "object_fit": null,
            "object_position": null,
            "order": null,
            "overflow": null,
            "overflow_x": null,
            "overflow_y": null,
            "padding": null,
            "right": null,
            "top": null,
            "visibility": null,
            "width": null
          }
        },
        "e06fadd990bb4d72b686b1f187e3eb5a": {
          "model_module": "@jupyter-widgets/controls",
          "model_name": "DescriptionStyleModel",
          "model_module_version": "1.5.0",
          "state": {
            "_model_module": "@jupyter-widgets/controls",
            "_model_module_version": "1.5.0",
            "_model_name": "DescriptionStyleModel",
            "_view_count": null,
            "_view_module": "@jupyter-widgets/base",
            "_view_module_version": "1.2.0",
            "_view_name": "StyleView",
            "description_width": ""
          }
        },
        "e8c7e728013940ed8257bdf5cb9a1c1e": {
          "model_module": "@jupyter-widgets/base",
          "model_name": "LayoutModel",
          "model_module_version": "1.2.0",
          "state": {
            "_model_module": "@jupyter-widgets/base",
            "_model_module_version": "1.2.0",
            "_model_name": "LayoutModel",
            "_view_count": null,
            "_view_module": "@jupyter-widgets/base",
            "_view_module_version": "1.2.0",
            "_view_name": "LayoutView",
            "align_content": null,
            "align_items": null,
            "align_self": null,
            "border": null,
            "bottom": null,
            "display": null,
            "flex": null,
            "flex_flow": null,
            "grid_area": null,
            "grid_auto_columns": null,
            "grid_auto_flow": null,
            "grid_auto_rows": null,
            "grid_column": null,
            "grid_gap": null,
            "grid_row": null,
            "grid_template_areas": null,
            "grid_template_columns": null,
            "grid_template_rows": null,
            "height": null,
            "justify_content": null,
            "justify_items": null,
            "left": null,
            "margin": null,
            "max_height": null,
            "max_width": null,
            "min_height": null,
            "min_width": null,
            "object_fit": null,
            "object_position": null,
            "order": null,
            "overflow": null,
            "overflow_x": null,
            "overflow_y": null,
            "padding": null,
            "right": null,
            "top": null,
            "visibility": null,
            "width": null
          }
        },
        "aaaef6dd85944025a886496b49d3a403": {
          "model_module": "@jupyter-widgets/controls",
          "model_name": "ProgressStyleModel",
          "model_module_version": "1.5.0",
          "state": {
            "_model_module": "@jupyter-widgets/controls",
            "_model_module_version": "1.5.0",
            "_model_name": "ProgressStyleModel",
            "_view_count": null,
            "_view_module": "@jupyter-widgets/base",
            "_view_module_version": "1.2.0",
            "_view_name": "StyleView",
            "bar_color": null,
            "description_width": ""
          }
        },
        "4d7cb04b4c004a739f995e316f59d0fe": {
          "model_module": "@jupyter-widgets/base",
          "model_name": "LayoutModel",
          "model_module_version": "1.2.0",
          "state": {
            "_model_module": "@jupyter-widgets/base",
            "_model_module_version": "1.2.0",
            "_model_name": "LayoutModel",
            "_view_count": null,
            "_view_module": "@jupyter-widgets/base",
            "_view_module_version": "1.2.0",
            "_view_name": "LayoutView",
            "align_content": null,
            "align_items": null,
            "align_self": null,
            "border": null,
            "bottom": null,
            "display": null,
            "flex": null,
            "flex_flow": null,
            "grid_area": null,
            "grid_auto_columns": null,
            "grid_auto_flow": null,
            "grid_auto_rows": null,
            "grid_column": null,
            "grid_gap": null,
            "grid_row": null,
            "grid_template_areas": null,
            "grid_template_columns": null,
            "grid_template_rows": null,
            "height": null,
            "justify_content": null,
            "justify_items": null,
            "left": null,
            "margin": null,
            "max_height": null,
            "max_width": null,
            "min_height": null,
            "min_width": null,
            "object_fit": null,
            "object_position": null,
            "order": null,
            "overflow": null,
            "overflow_x": null,
            "overflow_y": null,
            "padding": null,
            "right": null,
            "top": null,
            "visibility": null,
            "width": null
          }
        },
        "1c13a8a943b94280a479cf345598e07b": {
          "model_module": "@jupyter-widgets/controls",
          "model_name": "DescriptionStyleModel",
          "model_module_version": "1.5.0",
          "state": {
            "_model_module": "@jupyter-widgets/controls",
            "_model_module_version": "1.5.0",
            "_model_name": "DescriptionStyleModel",
            "_view_count": null,
            "_view_module": "@jupyter-widgets/base",
            "_view_module_version": "1.2.0",
            "_view_name": "StyleView",
            "description_width": ""
          }
        }
      }
    }
  },
  "nbformat_minor": 0,
  "nbformat": 4,
  "cells": [
    {
      "cell_type": "markdown",
      "metadata": {
        "id": "view-in-github",
        "colab_type": "text"
      },
      "source": [
        "<a href=\"https://colab.research.google.com/github/SouadSADKI/Forum-App-Go-Backend/blob/master/ENSIAS_SS_1_Code_vulnerability_detection.ipynb\" target=\"_parent\"><img src=\"https://colab.research.google.com/assets/colab-badge.svg\" alt=\"Open In Colab\"/></a>"
      ]
    },
    {
      "source": [
        "\n",
        "import kagglehub\n",
        "cerengen_securec_c_source_code_for_vulnerabilty_detection_path = kagglehub.dataset_download('cerengen/securec-c-source-code-for-vulnerabilty-detection')\n",
        "\n",
        "print('Data source import complete.')\n"
      ],
      "metadata": {
        "colab": {
          "base_uri": "https://localhost:8080/"
        },
        "id": "ZULVWe4Mzo-P",
        "outputId": "23cc588b-cbe0-4559-911c-eb6115985b15"
      },
      "cell_type": "code",
      "outputs": [
        {
          "output_type": "stream",
          "name": "stdout",
          "text": [
            "Downloading from https://www.kaggle.com/api/v1/datasets/download/cerengen/securec-c-source-code-for-vulnerabilty-detection?dataset_version_number=1...\n"
          ]
        },
        {
          "output_type": "stream",
          "name": "stderr",
          "text": [
            "100%|██████████| 549M/549M [00:25<00:00, 22.8MB/s]"
          ]
        },
        {
          "output_type": "stream",
          "name": "stdout",
          "text": [
            "Extracting files...\n"
          ]
        },
        {
          "output_type": "stream",
          "name": "stderr",
          "text": [
            "\n"
          ]
        },
        {
          "output_type": "stream",
          "name": "stdout",
          "text": [
            "Data source import complete.\n"
          ]
        }
      ],
      "execution_count": null
    },
    {
      "cell_type": "markdown",
      "source": [
        "## Content <a name='toc'></a>\n",
        "<ol>\n",
        "<li><a href='#load'> Loading and preparing data </a></li>\n",
        "<li><a href='#bert'>СodeBert</a></li>\n",
        "</ol>"
      ],
      "metadata": {
        "id": "JUplUashzo-T"
      }
    },
    {
      "cell_type": "code",
      "source": [
        "!pip install datasets evaluate"
      ],
      "metadata": {
        "colab": {
          "base_uri": "https://localhost:8080/"
        },
        "id": "i3qMI9AJ0WLM",
        "outputId": "4e7a759f-31f8-41d0-aa08-083e101cb4df"
      },
      "execution_count": null,
      "outputs": [
        {
          "output_type": "stream",
          "name": "stdout",
          "text": [
            "Collecting datasets\n",
            "  Downloading datasets-3.1.0-py3-none-any.whl.metadata (20 kB)\n",
            "Collecting evaluate\n",
            "  Downloading evaluate-0.4.3-py3-none-any.whl.metadata (9.2 kB)\n",
            "Requirement already satisfied: filelock in /usr/local/lib/python3.10/dist-packages (from datasets) (3.16.1)\n",
            "Requirement already satisfied: numpy>=1.17 in /usr/local/lib/python3.10/dist-packages (from datasets) (1.26.4)\n",
            "Requirement already satisfied: pyarrow>=15.0.0 in /usr/local/lib/python3.10/dist-packages (from datasets) (17.0.0)\n",
            "Collecting dill<0.3.9,>=0.3.0 (from datasets)\n",
            "  Downloading dill-0.3.8-py3-none-any.whl.metadata (10 kB)\n",
            "Requirement already satisfied: pandas in /usr/local/lib/python3.10/dist-packages (from datasets) (2.2.2)\n",
            "Requirement already satisfied: requests>=2.32.2 in /usr/local/lib/python3.10/dist-packages (from datasets) (2.32.3)\n",
            "Requirement already satisfied: tqdm>=4.66.3 in /usr/local/lib/python3.10/dist-packages (from datasets) (4.66.6)\n",
            "Collecting xxhash (from datasets)\n",
            "  Downloading xxhash-3.5.0-cp310-cp310-manylinux_2_17_x86_64.manylinux2014_x86_64.whl.metadata (12 kB)\n",
            "Collecting multiprocess<0.70.17 (from datasets)\n",
            "  Downloading multiprocess-0.70.16-py310-none-any.whl.metadata (7.2 kB)\n",
            "Collecting fsspec<=2024.9.0,>=2023.1.0 (from fsspec[http]<=2024.9.0,>=2023.1.0->datasets)\n",
            "  Downloading fsspec-2024.9.0-py3-none-any.whl.metadata (11 kB)\n",
            "Requirement already satisfied: aiohttp in /usr/local/lib/python3.10/dist-packages (from datasets) (3.11.2)\n",
            "Requirement already satisfied: huggingface-hub>=0.23.0 in /usr/local/lib/python3.10/dist-packages (from datasets) (0.26.2)\n",
            "Requirement already satisfied: packaging in /usr/local/lib/python3.10/dist-packages (from datasets) (24.2)\n",
            "Requirement already satisfied: pyyaml>=5.1 in /usr/local/lib/python3.10/dist-packages (from datasets) (6.0.2)\n",
            "Requirement already satisfied: aiohappyeyeballs>=2.3.0 in /usr/local/lib/python3.10/dist-packages (from aiohttp->datasets) (2.4.3)\n",
            "Requirement already satisfied: aiosignal>=1.1.2 in /usr/local/lib/python3.10/dist-packages (from aiohttp->datasets) (1.3.1)\n",
            "Requirement already satisfied: attrs>=17.3.0 in /usr/local/lib/python3.10/dist-packages (from aiohttp->datasets) (24.2.0)\n",
            "Requirement already satisfied: frozenlist>=1.1.1 in /usr/local/lib/python3.10/dist-packages (from aiohttp->datasets) (1.5.0)\n",
            "Requirement already satisfied: multidict<7.0,>=4.5 in /usr/local/lib/python3.10/dist-packages (from aiohttp->datasets) (6.1.0)\n",
            "Requirement already satisfied: propcache>=0.2.0 in /usr/local/lib/python3.10/dist-packages (from aiohttp->datasets) (0.2.0)\n",
            "Requirement already satisfied: yarl<2.0,>=1.17.0 in /usr/local/lib/python3.10/dist-packages (from aiohttp->datasets) (1.17.2)\n",
            "Requirement already satisfied: async-timeout<6.0,>=4.0 in /usr/local/lib/python3.10/dist-packages (from aiohttp->datasets) (4.0.3)\n",
            "Requirement already satisfied: typing-extensions>=3.7.4.3 in /usr/local/lib/python3.10/dist-packages (from huggingface-hub>=0.23.0->datasets) (4.12.2)\n",
            "Requirement already satisfied: charset-normalizer<4,>=2 in /usr/local/lib/python3.10/dist-packages (from requests>=2.32.2->datasets) (3.4.0)\n",
            "Requirement already satisfied: idna<4,>=2.5 in /usr/local/lib/python3.10/dist-packages (from requests>=2.32.2->datasets) (3.10)\n",
            "Requirement already satisfied: urllib3<3,>=1.21.1 in /usr/local/lib/python3.10/dist-packages (from requests>=2.32.2->datasets) (2.2.3)\n",
            "Requirement already satisfied: certifi>=2017.4.17 in /usr/local/lib/python3.10/dist-packages (from requests>=2.32.2->datasets) (2024.8.30)\n",
            "Requirement already satisfied: python-dateutil>=2.8.2 in /usr/local/lib/python3.10/dist-packages (from pandas->datasets) (2.8.2)\n",
            "Requirement already satisfied: pytz>=2020.1 in /usr/local/lib/python3.10/dist-packages (from pandas->datasets) (2024.2)\n",
            "Requirement already satisfied: tzdata>=2022.7 in /usr/local/lib/python3.10/dist-packages (from pandas->datasets) (2024.2)\n",
            "Requirement already satisfied: six>=1.5 in /usr/local/lib/python3.10/dist-packages (from python-dateutil>=2.8.2->pandas->datasets) (1.16.0)\n",
            "Downloading datasets-3.1.0-py3-none-any.whl (480 kB)\n",
            "\u001b[2K   \u001b[90m━━━━━━━━━━━━━━━━━━━━━━━━━━━━━━━━━━━━━━━━\u001b[0m \u001b[32m480.6/480.6 kB\u001b[0m \u001b[31m30.9 MB/s\u001b[0m eta \u001b[36m0:00:00\u001b[0m\n",
            "\u001b[?25hDownloading evaluate-0.4.3-py3-none-any.whl (84 kB)\n",
            "\u001b[2K   \u001b[90m━━━━━━━━━━━━━━━━━━━━━━━━━━━━━━━━━━━━━━━━\u001b[0m \u001b[32m84.0/84.0 kB\u001b[0m \u001b[31m7.5 MB/s\u001b[0m eta \u001b[36m0:00:00\u001b[0m\n",
            "\u001b[?25hDownloading dill-0.3.8-py3-none-any.whl (116 kB)\n",
            "\u001b[2K   \u001b[90m━━━━━━━━━━━━━━━━━━━━━━━━━━━━━━━━━━━━━━━━\u001b[0m \u001b[32m116.3/116.3 kB\u001b[0m \u001b[31m10.3 MB/s\u001b[0m eta \u001b[36m0:00:00\u001b[0m\n",
            "\u001b[?25hDownloading fsspec-2024.9.0-py3-none-any.whl (179 kB)\n",
            "\u001b[2K   \u001b[90m━━━━━━━━━━━━━━━━━━━━━━━━━━━━━━━━━━━━━━━━\u001b[0m \u001b[32m179.3/179.3 kB\u001b[0m \u001b[31m13.4 MB/s\u001b[0m eta \u001b[36m0:00:00\u001b[0m\n",
            "\u001b[?25hDownloading multiprocess-0.70.16-py310-none-any.whl (134 kB)\n",
            "\u001b[2K   \u001b[90m━━━━━━━━━━━━━━━━━━━━━━━━━━━━━━━━━━━━━━━━\u001b[0m \u001b[32m134.8/134.8 kB\u001b[0m \u001b[31m13.5 MB/s\u001b[0m eta \u001b[36m0:00:00\u001b[0m\n",
            "\u001b[?25hDownloading xxhash-3.5.0-cp310-cp310-manylinux_2_17_x86_64.manylinux2014_x86_64.whl (194 kB)\n",
            "\u001b[2K   \u001b[90m━━━━━━━━━━━━━━━━━━━━━━━━━━━━━━━━━━━━━━━━\u001b[0m \u001b[32m194.1/194.1 kB\u001b[0m \u001b[31m18.0 MB/s\u001b[0m eta \u001b[36m0:00:00\u001b[0m\n",
            "\u001b[?25hInstalling collected packages: xxhash, fsspec, dill, multiprocess, datasets, evaluate\n",
            "  Attempting uninstall: fsspec\n",
            "    Found existing installation: fsspec 2024.10.0\n",
            "    Uninstalling fsspec-2024.10.0:\n",
            "      Successfully uninstalled fsspec-2024.10.0\n",
            "\u001b[31mERROR: pip's dependency resolver does not currently take into account all the packages that are installed. This behaviour is the source of the following dependency conflicts.\n",
            "gcsfs 2024.10.0 requires fsspec==2024.10.0, but you have fsspec 2024.9.0 which is incompatible.\u001b[0m\u001b[31m\n",
            "\u001b[0mSuccessfully installed datasets-3.1.0 dill-0.3.8 evaluate-0.4.3 fsspec-2024.9.0 multiprocess-0.70.16 xxhash-3.5.0\n"
          ]
        }
      ]
    },
    {
      "cell_type": "code",
      "source": [
        "from tqdm import tqdm, trange\n",
        "import multiprocessing\n",
        "\n",
        "from transformers import (WEIGHTS_NAME, AdamW, get_linear_schedule_with_warmup,\n",
        "                          RobertaConfig, RobertaForSequenceClassification, RobertaTokenizer)\n",
        "from datasets import Dataset\n",
        "from transformers import RobertaTokenizer, RobertaForMaskedLM, pipeline\n",
        "from transformers import DataCollatorWithPadding\n",
        "from transformers import AutoModelForSequenceClassification, TrainingArguments, Trainer\n",
        "\n",
        "import torch\n",
        "\n",
        "import evaluate\n",
        "import numpy as np\n",
        "import pandas as pd\n",
        "from sklearn.model_selection import train_test_split"
      ],
      "metadata": {
        "execution": {
          "iopub.status.busy": "2023-12-08T03:35:20.936606Z",
          "iopub.execute_input": "2023-12-08T03:35:20.937153Z",
          "iopub.status.idle": "2023-12-08T03:35:34.110207Z",
          "shell.execute_reply.started": "2023-12-08T03:35:20.937106Z",
          "shell.execute_reply": "2023-12-08T03:35:34.108911Z"
        },
        "trusted": true,
        "id": "uDAMXbZMzo-U"
      },
      "execution_count": null,
      "outputs": []
    },
    {
      "cell_type": "markdown",
      "source": [
        "### 1. Loading and preparing data  <a name='load'></a>"
      ],
      "metadata": {
        "id": "BlxUAq_rzo-V"
      }
    },
    {
      "cell_type": "markdown",
      "source": [
        "Dataset [SARD](https://www.kaggle.com/datasets/cerengen/securec-c-source-code-for-vulnerabilty-detection/)\n",
        "\n",
        "Software Assurance Reference Dataset (SARD) is a growing collection of test programs with documented vulnerabilities in the code. Test cases range from small synthetic programs to large applications. The programs are written in C, C++, Java, PHP and C# and cover more than 150 classes of vulnerabilities.\n",
        "\n",
        "A collection of more than 450,000 examples of vulnerabilities;\n",
        "Covers over 150 Common Weakness Enumeration (CWE) classes\n",
        "\n"
      ],
      "metadata": {
        "id": "1YZPkjIszo-X"
      }
    },
    {
      "cell_type": "code",
      "source": [
        "pd.set_option('max_colwidth', 400)\n",
        "df = pd.read_csv(cerengen_securec_c_source_code_for_vulnerabilty_detection_path+'/multi_sard_all_data_marked.csv')\n",
        "df.head()"
      ],
      "metadata": {
        "execution": {
          "iopub.status.busy": "2023-12-08T02:46:47.86383Z",
          "iopub.execute_input": "2023-12-08T02:46:47.865027Z",
          "iopub.status.idle": "2023-12-08T02:46:50.464954Z",
          "shell.execute_reply.started": "2023-12-08T02:46:47.864992Z",
          "shell.execute_reply": "2023-12-08T02:46:50.463805Z"
        },
        "trusted": true,
        "colab": {
          "base_uri": "https://localhost:8080/",
          "height": 571
        },
        "id": "7DuqyXexzo-X",
        "outputId": "c8e0b5fd-c303-4f39-9221-f8a1e48171eb"
      },
      "execution_count": null,
      "outputs": [
        {
          "output_type": "execute_result",
          "data": {
            "text/plain": [
              "                                                                                                                                                                                                                                                                                                                                                                                                              code  \\\n",
              "0  \\n \\n \\n #include \"IncludeMarker\"\\n \\n #include <IncludeMarker>\\n \\n #ifdef _WIN32\\n #include <IncludeMarker>\\n #include <IncludeMarker>\\n #include <IncludeMarker>\\n #pragma comment(lib, \"ws2_32\") \\n #define DefineMarker closesocket\\n #else \\n #include <IncludeMarker>\\n #include <IncludeMarker>\\n #include <IncludeMarker>\\n #include <IncludeMarker>\\n #include <IncludeMarker>\\n #define DefineMar...   \n",
              "1  \\n \\n \\n #include \"IncludeMarker\"\\n \\n #include <IncludeMarker>\\n \\n #ifdef _WIN32\\n #include <IncludeMarker>\\n #include <IncludeMarker>\\n #include <IncludeMarker>\\n #pragma comment(lib, \"ws2_32\") \\n #define DefineMarker closesocket\\n #else \\n #include <IncludeMarker>\\n #include <IncludeMarker>\\n #include <IncludeMarker>\\n #include <IncludeMarker>\\n #include <IncludeMarker>\\n #define DefineMar...   \n",
              "2  \\n \\n \\n #include \"IncludeMarker\"\\n \\n #include <IncludeMarker>\\n \\n #ifdef _WIN32\\n #include <IncludeMarker>\\n #include <IncludeMarker>\\n #include <IncludeMarker>\\n #pragma comment(lib, \"ws2_32\") \\n #define DefineMarker closesocket\\n #else \\n #include <IncludeMarker>\\n #include <IncludeMarker>\\n #include <IncludeMarker>\\n #include <IncludeMarker>\\n #include <IncludeMarker>\\n #define DefineMar...   \n",
              "3  \\n \\n \\n #include \"IncludeMarker\"\\n \\n #include <IncludeMarker>\\n \\n #ifdef _WIN32\\n #include <IncludeMarker>\\n #include <IncludeMarker>\\n #include <IncludeMarker>\\n #pragma comment(lib, \"ws2_32\") \\n #define DefineMarker closesocket\\n #else \\n #include <IncludeMarker>\\n #include <IncludeMarker>\\n #include <IncludeMarker>\\n #include <IncludeMarker>\\n #include <IncludeMarker>\\n #define DefineMar...   \n",
              "4  \\n \\n \\n #include \"IncludeMarker\"\\n \\n #include <IncludeMarker>\\n \\n #ifdef _WIN32\\n #include <IncludeMarker>\\n #include <IncludeMarker>\\n #include <IncludeMarker>\\n #pragma comment(lib, \"ws2_32\") \\n #define DefineMarker closesocket\\n #else \\n #include <IncludeMarker>\\n #include <IncludeMarker>\\n #include <IncludeMarker>\\n #include <IncludeMarker>\\n #include <IncludeMarker>\\n #define DefineMar...   \n",
              "\n",
              "  CWE-Type DataType  \n",
              "0   CWE114     SARD  \n",
              "1   CWE114     SARD  \n",
              "2   CWE114     SARD  \n",
              "3   CWE114     SARD  \n",
              "4   CWE114     SARD  "
            ],
            "text/html": [
              "\n",
              "  <div id=\"df-09ec7d27-7a60-45a2-92f5-d4d5fe5f0e18\" class=\"colab-df-container\">\n",
              "    <div>\n",
              "<style scoped>\n",
              "    .dataframe tbody tr th:only-of-type {\n",
              "        vertical-align: middle;\n",
              "    }\n",
              "\n",
              "    .dataframe tbody tr th {\n",
              "        vertical-align: top;\n",
              "    }\n",
              "\n",
              "    .dataframe thead th {\n",
              "        text-align: right;\n",
              "    }\n",
              "</style>\n",
              "<table border=\"1\" class=\"dataframe\">\n",
              "  <thead>\n",
              "    <tr style=\"text-align: right;\">\n",
              "      <th></th>\n",
              "      <th>code</th>\n",
              "      <th>CWE-Type</th>\n",
              "      <th>DataType</th>\n",
              "    </tr>\n",
              "  </thead>\n",
              "  <tbody>\n",
              "    <tr>\n",
              "      <th>0</th>\n",
              "      <td>\\n \\n \\n #include \"IncludeMarker\"\\n \\n #include &lt;IncludeMarker&gt;\\n \\n #ifdef _WIN32\\n #include &lt;IncludeMarker&gt;\\n #include &lt;IncludeMarker&gt;\\n #include &lt;IncludeMarker&gt;\\n #pragma comment(lib, \"ws2_32\") \\n #define DefineMarker closesocket\\n #else \\n #include &lt;IncludeMarker&gt;\\n #include &lt;IncludeMarker&gt;\\n #include &lt;IncludeMarker&gt;\\n #include &lt;IncludeMarker&gt;\\n #include &lt;IncludeMarker&gt;\\n #define DefineMar...</td>\n",
              "      <td>CWE114</td>\n",
              "      <td>SARD</td>\n",
              "    </tr>\n",
              "    <tr>\n",
              "      <th>1</th>\n",
              "      <td>\\n \\n \\n #include \"IncludeMarker\"\\n \\n #include &lt;IncludeMarker&gt;\\n \\n #ifdef _WIN32\\n #include &lt;IncludeMarker&gt;\\n #include &lt;IncludeMarker&gt;\\n #include &lt;IncludeMarker&gt;\\n #pragma comment(lib, \"ws2_32\") \\n #define DefineMarker closesocket\\n #else \\n #include &lt;IncludeMarker&gt;\\n #include &lt;IncludeMarker&gt;\\n #include &lt;IncludeMarker&gt;\\n #include &lt;IncludeMarker&gt;\\n #include &lt;IncludeMarker&gt;\\n #define DefineMar...</td>\n",
              "      <td>CWE114</td>\n",
              "      <td>SARD</td>\n",
              "    </tr>\n",
              "    <tr>\n",
              "      <th>2</th>\n",
              "      <td>\\n \\n \\n #include \"IncludeMarker\"\\n \\n #include &lt;IncludeMarker&gt;\\n \\n #ifdef _WIN32\\n #include &lt;IncludeMarker&gt;\\n #include &lt;IncludeMarker&gt;\\n #include &lt;IncludeMarker&gt;\\n #pragma comment(lib, \"ws2_32\") \\n #define DefineMarker closesocket\\n #else \\n #include &lt;IncludeMarker&gt;\\n #include &lt;IncludeMarker&gt;\\n #include &lt;IncludeMarker&gt;\\n #include &lt;IncludeMarker&gt;\\n #include &lt;IncludeMarker&gt;\\n #define DefineMar...</td>\n",
              "      <td>CWE114</td>\n",
              "      <td>SARD</td>\n",
              "    </tr>\n",
              "    <tr>\n",
              "      <th>3</th>\n",
              "      <td>\\n \\n \\n #include \"IncludeMarker\"\\n \\n #include &lt;IncludeMarker&gt;\\n \\n #ifdef _WIN32\\n #include &lt;IncludeMarker&gt;\\n #include &lt;IncludeMarker&gt;\\n #include &lt;IncludeMarker&gt;\\n #pragma comment(lib, \"ws2_32\") \\n #define DefineMarker closesocket\\n #else \\n #include &lt;IncludeMarker&gt;\\n #include &lt;IncludeMarker&gt;\\n #include &lt;IncludeMarker&gt;\\n #include &lt;IncludeMarker&gt;\\n #include &lt;IncludeMarker&gt;\\n #define DefineMar...</td>\n",
              "      <td>CWE114</td>\n",
              "      <td>SARD</td>\n",
              "    </tr>\n",
              "    <tr>\n",
              "      <th>4</th>\n",
              "      <td>\\n \\n \\n #include \"IncludeMarker\"\\n \\n #include &lt;IncludeMarker&gt;\\n \\n #ifdef _WIN32\\n #include &lt;IncludeMarker&gt;\\n #include &lt;IncludeMarker&gt;\\n #include &lt;IncludeMarker&gt;\\n #pragma comment(lib, \"ws2_32\") \\n #define DefineMarker closesocket\\n #else \\n #include &lt;IncludeMarker&gt;\\n #include &lt;IncludeMarker&gt;\\n #include &lt;IncludeMarker&gt;\\n #include &lt;IncludeMarker&gt;\\n #include &lt;IncludeMarker&gt;\\n #define DefineMar...</td>\n",
              "      <td>CWE114</td>\n",
              "      <td>SARD</td>\n",
              "    </tr>\n",
              "  </tbody>\n",
              "</table>\n",
              "</div>\n",
              "    <div class=\"colab-df-buttons\">\n",
              "\n",
              "  <div class=\"colab-df-container\">\n",
              "    <button class=\"colab-df-convert\" onclick=\"convertToInteractive('df-09ec7d27-7a60-45a2-92f5-d4d5fe5f0e18')\"\n",
              "            title=\"Convert this dataframe to an interactive table.\"\n",
              "            style=\"display:none;\">\n",
              "\n",
              "  <svg xmlns=\"http://www.w3.org/2000/svg\" height=\"24px\" viewBox=\"0 -960 960 960\">\n",
              "    <path d=\"M120-120v-720h720v720H120Zm60-500h600v-160H180v160Zm220 220h160v-160H400v160Zm0 220h160v-160H400v160ZM180-400h160v-160H180v160Zm440 0h160v-160H620v160ZM180-180h160v-160H180v160Zm440 0h160v-160H620v160Z\"/>\n",
              "  </svg>\n",
              "    </button>\n",
              "\n",
              "  <style>\n",
              "    .colab-df-container {\n",
              "      display:flex;\n",
              "      gap: 12px;\n",
              "    }\n",
              "\n",
              "    .colab-df-convert {\n",
              "      background-color: #E8F0FE;\n",
              "      border: none;\n",
              "      border-radius: 50%;\n",
              "      cursor: pointer;\n",
              "      display: none;\n",
              "      fill: #1967D2;\n",
              "      height: 32px;\n",
              "      padding: 0 0 0 0;\n",
              "      width: 32px;\n",
              "    }\n",
              "\n",
              "    .colab-df-convert:hover {\n",
              "      background-color: #E2EBFA;\n",
              "      box-shadow: 0px 1px 2px rgba(60, 64, 67, 0.3), 0px 1px 3px 1px rgba(60, 64, 67, 0.15);\n",
              "      fill: #174EA6;\n",
              "    }\n",
              "\n",
              "    .colab-df-buttons div {\n",
              "      margin-bottom: 4px;\n",
              "    }\n",
              "\n",
              "    [theme=dark] .colab-df-convert {\n",
              "      background-color: #3B4455;\n",
              "      fill: #D2E3FC;\n",
              "    }\n",
              "\n",
              "    [theme=dark] .colab-df-convert:hover {\n",
              "      background-color: #434B5C;\n",
              "      box-shadow: 0px 1px 3px 1px rgba(0, 0, 0, 0.15);\n",
              "      filter: drop-shadow(0px 1px 2px rgba(0, 0, 0, 0.3));\n",
              "      fill: #FFFFFF;\n",
              "    }\n",
              "  </style>\n",
              "\n",
              "    <script>\n",
              "      const buttonEl =\n",
              "        document.querySelector('#df-09ec7d27-7a60-45a2-92f5-d4d5fe5f0e18 button.colab-df-convert');\n",
              "      buttonEl.style.display =\n",
              "        google.colab.kernel.accessAllowed ? 'block' : 'none';\n",
              "\n",
              "      async function convertToInteractive(key) {\n",
              "        const element = document.querySelector('#df-09ec7d27-7a60-45a2-92f5-d4d5fe5f0e18');\n",
              "        const dataTable =\n",
              "          await google.colab.kernel.invokeFunction('convertToInteractive',\n",
              "                                                    [key], {});\n",
              "        if (!dataTable) return;\n",
              "\n",
              "        const docLinkHtml = 'Like what you see? Visit the ' +\n",
              "          '<a target=\"_blank\" href=https://colab.research.google.com/notebooks/data_table.ipynb>data table notebook</a>'\n",
              "          + ' to learn more about interactive tables.';\n",
              "        element.innerHTML = '';\n",
              "        dataTable['output_type'] = 'display_data';\n",
              "        await google.colab.output.renderOutput(dataTable, element);\n",
              "        const docLink = document.createElement('div');\n",
              "        docLink.innerHTML = docLinkHtml;\n",
              "        element.appendChild(docLink);\n",
              "      }\n",
              "    </script>\n",
              "  </div>\n",
              "\n",
              "\n",
              "<div id=\"df-ccc49e7c-3b7a-4313-9311-916d27bb5e44\">\n",
              "  <button class=\"colab-df-quickchart\" onclick=\"quickchart('df-ccc49e7c-3b7a-4313-9311-916d27bb5e44')\"\n",
              "            title=\"Suggest charts\"\n",
              "            style=\"display:none;\">\n",
              "\n",
              "<svg xmlns=\"http://www.w3.org/2000/svg\" height=\"24px\"viewBox=\"0 0 24 24\"\n",
              "     width=\"24px\">\n",
              "    <g>\n",
              "        <path d=\"M19 3H5c-1.1 0-2 .9-2 2v14c0 1.1.9 2 2 2h14c1.1 0 2-.9 2-2V5c0-1.1-.9-2-2-2zM9 17H7v-7h2v7zm4 0h-2V7h2v10zm4 0h-2v-4h2v4z\"/>\n",
              "    </g>\n",
              "</svg>\n",
              "  </button>\n",
              "\n",
              "<style>\n",
              "  .colab-df-quickchart {\n",
              "      --bg-color: #E8F0FE;\n",
              "      --fill-color: #1967D2;\n",
              "      --hover-bg-color: #E2EBFA;\n",
              "      --hover-fill-color: #174EA6;\n",
              "      --disabled-fill-color: #AAA;\n",
              "      --disabled-bg-color: #DDD;\n",
              "  }\n",
              "\n",
              "  [theme=dark] .colab-df-quickchart {\n",
              "      --bg-color: #3B4455;\n",
              "      --fill-color: #D2E3FC;\n",
              "      --hover-bg-color: #434B5C;\n",
              "      --hover-fill-color: #FFFFFF;\n",
              "      --disabled-bg-color: #3B4455;\n",
              "      --disabled-fill-color: #666;\n",
              "  }\n",
              "\n",
              "  .colab-df-quickchart {\n",
              "    background-color: var(--bg-color);\n",
              "    border: none;\n",
              "    border-radius: 50%;\n",
              "    cursor: pointer;\n",
              "    display: none;\n",
              "    fill: var(--fill-color);\n",
              "    height: 32px;\n",
              "    padding: 0;\n",
              "    width: 32px;\n",
              "  }\n",
              "\n",
              "  .colab-df-quickchart:hover {\n",
              "    background-color: var(--hover-bg-color);\n",
              "    box-shadow: 0 1px 2px rgba(60, 64, 67, 0.3), 0 1px 3px 1px rgba(60, 64, 67, 0.15);\n",
              "    fill: var(--button-hover-fill-color);\n",
              "  }\n",
              "\n",
              "  .colab-df-quickchart-complete:disabled,\n",
              "  .colab-df-quickchart-complete:disabled:hover {\n",
              "    background-color: var(--disabled-bg-color);\n",
              "    fill: var(--disabled-fill-color);\n",
              "    box-shadow: none;\n",
              "  }\n",
              "\n",
              "  .colab-df-spinner {\n",
              "    border: 2px solid var(--fill-color);\n",
              "    border-color: transparent;\n",
              "    border-bottom-color: var(--fill-color);\n",
              "    animation:\n",
              "      spin 1s steps(1) infinite;\n",
              "  }\n",
              "\n",
              "  @keyframes spin {\n",
              "    0% {\n",
              "      border-color: transparent;\n",
              "      border-bottom-color: var(--fill-color);\n",
              "      border-left-color: var(--fill-color);\n",
              "    }\n",
              "    20% {\n",
              "      border-color: transparent;\n",
              "      border-left-color: var(--fill-color);\n",
              "      border-top-color: var(--fill-color);\n",
              "    }\n",
              "    30% {\n",
              "      border-color: transparent;\n",
              "      border-left-color: var(--fill-color);\n",
              "      border-top-color: var(--fill-color);\n",
              "      border-right-color: var(--fill-color);\n",
              "    }\n",
              "    40% {\n",
              "      border-color: transparent;\n",
              "      border-right-color: var(--fill-color);\n",
              "      border-top-color: var(--fill-color);\n",
              "    }\n",
              "    60% {\n",
              "      border-color: transparent;\n",
              "      border-right-color: var(--fill-color);\n",
              "    }\n",
              "    80% {\n",
              "      border-color: transparent;\n",
              "      border-right-color: var(--fill-color);\n",
              "      border-bottom-color: var(--fill-color);\n",
              "    }\n",
              "    90% {\n",
              "      border-color: transparent;\n",
              "      border-bottom-color: var(--fill-color);\n",
              "    }\n",
              "  }\n",
              "</style>\n",
              "\n",
              "  <script>\n",
              "    async function quickchart(key) {\n",
              "      const quickchartButtonEl =\n",
              "        document.querySelector('#' + key + ' button');\n",
              "      quickchartButtonEl.disabled = true;  // To prevent multiple clicks.\n",
              "      quickchartButtonEl.classList.add('colab-df-spinner');\n",
              "      try {\n",
              "        const charts = await google.colab.kernel.invokeFunction(\n",
              "            'suggestCharts', [key], {});\n",
              "      } catch (error) {\n",
              "        console.error('Error during call to suggestCharts:', error);\n",
              "      }\n",
              "      quickchartButtonEl.classList.remove('colab-df-spinner');\n",
              "      quickchartButtonEl.classList.add('colab-df-quickchart-complete');\n",
              "    }\n",
              "    (() => {\n",
              "      let quickchartButtonEl =\n",
              "        document.querySelector('#df-ccc49e7c-3b7a-4313-9311-916d27bb5e44 button');\n",
              "      quickchartButtonEl.style.display =\n",
              "        google.colab.kernel.accessAllowed ? 'block' : 'none';\n",
              "    })();\n",
              "  </script>\n",
              "</div>\n",
              "\n",
              "    </div>\n",
              "  </div>\n"
            ],
            "application/vnd.google.colaboratory.intrinsic+json": {
              "type": "dataframe",
              "variable_name": "df",
              "summary": "{\n  \"name\": \"df\",\n  \"rows\": 52802,\n  \"fields\": [\n    {\n      \"column\": \"code\",\n      \"properties\": {\n        \"dtype\": \"string\",\n        \"num_unique_values\": 37167,\n        \"samples\": [\n          \"\\n \\n \\n #include \\\"IncludeMarker\\\"\\n \\n #include <IncludeMarker>\\n \\n #ifndef OMITBAD\\n \\n \\n #endif \\n \\n #ifndef OMITGOOD\\n \\n \\n \\n \\n \\n \\n #endif \\n \\n \\n \\n #ifdef INCLUDEMAIN\\n \\n \\n #endif\\n void VoidFunctionMarker()\\n {\\n     if(1)\\n     {\\n         {\\n             HANDLE hFile;\\n             char * charPointerMarker = \\\"C:\\\\\\\\temp\\\\\\\\file.txt\\\";\\n             \\n             hFile = CreateFileA(\\n                         charPointerMarker,\\n                         FILE_ALL_ACCESS,\\n                         FILE_SHARE_READ,\\n                         NULL,\\n                         CREATE_NEW,\\n                         FILE_ATTRIBUTE_NORMAL,\\n                         NULL);\\n             if (hFile == INVALID_HANDLE_VALUE)\\n             {\\n                 printLine(\\\"File could not be created\\\");\\n             }\\n             else\\n             {\\n                 printLine(\\\"File created successfully\\\");\\n                 CloseHandle(hFile);\\n             }\\n         }\\n     }\\n }\\n\\n static void VoidFunctionMarker()\\n {\\n     if(0)\\n     {\\n         \\n         printLine(\\\"Benign, fixed string\\\");\\n     }\\n     else\\n     {\\n         {\\n             HANDLE hFile;\\n             char * charPointerMarker = \\\"C:\\\\\\\\temp\\\\\\\\file.txt\\\";\\n             \\n             hFile = CreateFileA(\\n                         charPointerMarker,\\n                         GENERIC_READ,\\n                         FILE_SHARE_READ,\\n                         NULL,\\n                         CREATE_NEW,\\n                         FILE_ATTRIBUTE_NORMAL,\\n                         NULL);\\n             if (hFile == INVALID_HANDLE_VALUE)\\n             {\\n                 printLine(\\\"File could not be created\\\");\\n             }\\n             else\\n             {\\n                 printLine(\\\"File created successfully\\\");\\n                 CloseHandle(hFile);\\n             }\\n         }\\n     }\\n }\\n\\n static void VoidFunctionMarker()\\n {\\n     if(1)\\n     {\\n         {\\n             HANDLE hFile;\\n             char * charPointerMarker = \\\"C:\\\\\\\\temp\\\\\\\\file.txt\\\";\\n             \\n             hFile = CreateFileA(\\n                         charPointerMarker,\\n                         GENERIC_READ,\\n                         FILE_SHARE_READ,\\n                         NULL,\\n                         CREATE_NEW,\\n                         FILE_ATTRIBUTE_NORMAL,\\n                         NULL);\\n             if (hFile == INVALID_HANDLE_VALUE)\\n             {\\n                 printLine(\\\"File could not be created\\\");\\n             }\\n             else\\n             {\\n                 printLine(\\\"File created successfully\\\");\\n                 CloseHandle(hFile);\\n             }\\n         }\\n     }\\n }\\n\\n void VoidFunctionMarker()\\n {\\n     VoidFunctionMarker();\\n     VoidFunctionMarker();\\n }\\n\\n int IntFunctionMarker(int intMarker, char * charPointerMarker[])\\n {\\n     \\n     srand( (unsigned)time(NULL) );\\n #ifndef OMITGOOD\\n     printLine(\\\"Calling good()...\\\");\\n     VoidFunctionMarker();\\n     printLine(\\\"Finished good()\\\");\\n #endif \\n #ifndef OMITBAD\\n     printLine(\\\"Calling bad()...\\\");\\n     VoidFunctionMarker();\\n     printLine(\\\"Finished bad()\\\");\\n #endif \\n     return 0;\\n }\\n\\n\",\n          \"\\n \\n \\n #include <IncludeMarker>\\n #include \\\"IncludeMarker\\\"\\n \\n #ifndef OMITBAD\\n \\n \\n int intMarker = 0;\\n \\n void VoidFunctionMarker(int64_t data);\\n \\n \\n #endif \\n \\n #ifndef OMITGOOD\\n \\n \\n int intMarker = 0;\\n int intMarker = 0;\\n int intMarker = 0;\\n \\n \\n void VoidFunctionMarker(int64_t data);\\n \\n \\n \\n void VoidFunctionMarker(int64_t data);\\n \\n \\n \\n void VoidFunctionMarker(int64_t data);\\n \\n \\n \\n #endif \\n \\n \\n \\n #ifdef INCLUDEMAIN\\n \\n \\n #endif\\n void VoidFunctionMarker()\\n {\\n     int64_t int64_tMarker;\\n     int64_tMarker = 0LL;\\n     \\n     fscanf (stdin, \\\"%\\\" SCNd64, &int64_tMarker);\\n     intMarker = 1; \\n     VoidFunctionMarker(int64_tMarker);\\n }\\n\\n static void VoidFunctionMarker()\\n {\\n     int64_t int64_tMarker;\\n     int64_tMarker = 0LL;\\n     \\n     fscanf (stdin, \\\"%\\\" SCNd64, &int64_tMarker);\\n     intMarker = 0; \\n     VoidFunctionMarker(int64_tMarker);\\n }\\n\\n static void VoidFunctionMarker()\\n {\\n     int64_t int64_tMarker;\\n     int64_tMarker = 0LL;\\n     \\n     fscanf (stdin, \\\"%\\\" SCNd64, &int64_tMarker);\\n     intMarker = 1; \\n     VoidFunctionMarker(int64_tMarker);\\n }\\n\\n static void VoidFunctionMarker()\\n {\\n     int64_t int64_tMarker;\\n     int64_tMarker = 0LL;\\n     \\n     int64_tMarker = 2;\\n     intMarker = 1; \\n     VoidFunctionMarker(int64_tMarker);\\n }\\n\\n void VoidFunctionMarker()\\n {\\n     VoidFunctionMarker();\\n     VoidFunctionMarker();\\n     VoidFunctionMarker();\\n }\\n\\n int IntFunctionMarker(int intMarker, char * charPointerMarker[])\\n {\\n     \\n     srand( (unsigned)time(NULL) );\\n #ifndef OMITGOOD\\n     printLine(\\\"Calling good()...\\\");\\n     VoidFunctionMarker();\\n     printLine(\\\"Finished good()\\\");\\n #endif \\n #ifndef OMITBAD\\n     printLine(\\\"Calling bad()...\\\");\\n     VoidFunctionMarker();\\n     printLine(\\\"Finished bad()\\\");\\n #endif \\n     return 0;\\n }\\n\\n\",\n          \"\\n \\n \\n #include \\\"IncludeMarker\\\"\\n \\n #ifndef _WIN32\\n #include <IncludeMarker>\\n #endif\\n \\n #ifndef OMITBAD\\n \\n \\n #endif \\n \\n #ifndef OMITGOOD\\n \\n \\n \\n \\n \\n \\n #endif \\n \\n \\n \\n #ifdef INCLUDEMAIN\\n \\n \\n #endif\\n void VoidFunctionMarker()\\n {\\n     if(5==5)\\n     {\\n         {\\n             char * charPointerMarker = (char *)malloc(100*100PointerMarker(char));\\n             if (charPointerMarker == NULL) {exit(-1);}\\n             \\n             strcpy(charPointerMarker, \\\"A String\\\");\\n             printLine(charPointerMarker);\\n             \\n             charPointerMarker = (char *)realloc(charPointerMarker, (130000)*100PointerMarker(char));\\n             if (charPointerMarker != NULL)\\n             {\\n                 \\n                 strcpy(charPointerMarker, \\\"New String\\\");\\n                 printLine(charPointerMarker);\\n                 free(charPointerMarker);\\n             }\\n         }\\n     }\\n }\\n\\n static void VoidFunctionMarker()\\n {\\n     if(5!=5)\\n     {\\n         \\n         printLine(\\\"Benign, fixed string\\\");\\n     }\\n     else\\n     {\\n         {\\n             char * charPointerMarker = (char *)malloc(100*100PointerMarker(char));\\n             if (charPointerMarker == NULL) {exit(-1);}\\n             char * charPointerMarker;\\n             \\n             strcpy(charPointerMarker, \\\"A String\\\");\\n             printLine(charPointerMarker);\\n             charPointerMarker = (char *)realloc(charPointerMarker, (130000)*100PointerMarker(char));\\n             \\n             if (charPointerMarker != NULL)\\n             {\\n                 charPointerMarker = charPointerMarker;\\n                 \\n                 strcpy(charPointerMarker, \\\"New String\\\");\\n                 printLine(charPointerMarker);\\n             }\\n             free(charPointerMarker);\\n         }\\n     }\\n }\\n\\n static void VoidFunctionMarker()\\n {\\n     if(5==5)\\n     {\\n         {\\n             char * charPointerMarker = (char *)malloc(100*100PointerMarker(char));\\n             if (charPointerMarker == NULL) {exit(-1);}\\n             char * charPointerMarker;\\n             \\n             strcpy(charPointerMarker, \\\"A String\\\");\\n             printLine(charPointerMarker);\\n             charPointerMarker = (char *)realloc(charPointerMarker, (130000)*100PointerMarker(char));\\n             \\n             if (charPointerMarker != NULL)\\n             {\\n                 charPointerMarker = charPointerMarker;\\n                 \\n                 strcpy(charPointerMarker, \\\"New String\\\");\\n                 printLine(charPointerMarker);\\n             }\\n             free(charPointerMarker);\\n         }\\n     }\\n }\\n\\n void VoidFunctionMarker()\\n {\\n     VoidFunctionMarker();\\n     VoidFunctionMarker();\\n }\\n\\n int IntFunctionMarker(int intMarker, char * charPointerMarker[])\\n {\\n     \\n     srand( (unsigned)time(NULL) );\\n #ifndef OMITGOOD\\n     printLine(\\\"Calling good()...\\\");\\n     VoidFunctionMarker();\\n     printLine(\\\"Finished good()\\\");\\n #endif \\n #ifndef OMITBAD\\n     printLine(\\\"Calling bad()...\\\");\\n     VoidFunctionMarker();\\n     printLine(\\\"Finished bad()\\\");\\n #endif \\n     return 0;\\n }\\n\\n\"\n        ],\n        \"semantic_type\": \"\",\n        \"description\": \"\"\n      }\n    },\n    {\n      \"column\": \"CWE-Type\",\n      \"properties\": {\n        \"dtype\": \"category\",\n        \"num_unique_values\": 109,\n        \"samples\": [\n          \"CWE587\",\n          \"CWE188\",\n          \"CWE124\"\n        ],\n        \"semantic_type\": \"\",\n        \"description\": \"\"\n      }\n    },\n    {\n      \"column\": \"DataType\",\n      \"properties\": {\n        \"dtype\": \"category\",\n        \"num_unique_values\": 1,\n        \"samples\": [\n          \"SARD\"\n        ],\n        \"semantic_type\": \"\",\n        \"description\": \"\"\n      }\n    }\n  ]\n}"
            }
          },
          "metadata": {},
          "execution_count": 8
        }
      ]
    },
    {
      "cell_type": "code",
      "source": [
        "unique = len(df['CWE-Type'].unique())\n",
        "print(f'Number of records in the dataset: {len(df)}')\n",
        "print(f'CWE types: {unique}')"
      ],
      "metadata": {
        "execution": {
          "iopub.status.busy": "2023-12-08T02:46:53.829652Z",
          "iopub.execute_input": "2023-12-08T02:46:53.830679Z",
          "iopub.status.idle": "2023-12-08T02:46:53.845904Z",
          "shell.execute_reply.started": "2023-12-08T02:46:53.830642Z",
          "shell.execute_reply": "2023-12-08T02:46:53.844256Z"
        },
        "trusted": true,
        "colab": {
          "base_uri": "https://localhost:8080/"
        },
        "id": "Lg_zhETrzo-Y",
        "outputId": "75aab439-0ea4-46d2-f53a-985b32d9470b"
      },
      "execution_count": null,
      "outputs": [
        {
          "output_type": "stream",
          "name": "stdout",
          "text": [
            "Number of records in the dataset: 5000\n",
            "CWE types: 98\n"
          ]
        }
      ]
    },
    {
      "cell_type": "code",
      "source": [
        "# comment out for faster running\n",
        "df = df.sample(5000)\n",
        "unique = len(df['CWE-Type'].unique())\n",
        "# print(len(df['CWE-Type'].unique()))"
      ],
      "metadata": {
        "id": "VbOyE89I4KY_"
      },
      "execution_count": null,
      "outputs": []
    },
    {
      "cell_type": "code",
      "source": [],
      "metadata": {
        "id": "BuKFQY1Ep4kg"
      },
      "execution_count": null,
      "outputs": []
    },
    {
      "cell_type": "code",
      "source": [
        "id2label = dict()\n",
        "label2id = dict()\n",
        "ind = 0\n",
        "for i in df['CWE-Type'].unique():\n",
        "    id2label[ind] = i\n",
        "    label2id[i] = ind\n",
        "    ind+=1"
      ],
      "metadata": {
        "execution": {
          "iopub.status.busy": "2023-12-08T02:46:54.842661Z",
          "iopub.execute_input": "2023-12-08T02:46:54.843034Z",
          "iopub.status.idle": "2023-12-08T02:46:54.854164Z",
          "shell.execute_reply.started": "2023-12-08T02:46:54.843004Z",
          "shell.execute_reply": "2023-12-08T02:46:54.852885Z"
        },
        "trusted": true,
        "id": "WAaytWFlzo-Z"
      },
      "execution_count": null,
      "outputs": []
    },
    {
      "cell_type": "code",
      "source": [
        "df['label']=df['CWE-Type'].map(label2id)\n",
        "df.head()"
      ],
      "metadata": {
        "execution": {
          "iopub.status.busy": "2023-12-08T02:46:57.217226Z",
          "iopub.execute_input": "2023-12-08T02:46:57.217725Z",
          "iopub.status.idle": "2023-12-08T02:46:57.240613Z",
          "shell.execute_reply.started": "2023-12-08T02:46:57.217689Z",
          "shell.execute_reply": "2023-12-08T02:46:57.239521Z"
        },
        "trusted": true,
        "colab": {
          "base_uri": "https://localhost:8080/",
          "height": 606
        },
        "id": "t1iptwEkzo-b",
        "outputId": "f4a5c32a-5d97-4871-fd4a-a114a345f337"
      },
      "execution_count": null,
      "outputs": [
        {
          "output_type": "execute_result",
          "data": {
            "text/plain": [
              "                                                                                                                                                                                                                                                                                                                                                                                                                  code  \\\n",
              "20087  \\n \\n \\n #include \"IncludeMarker\"\\n \\n \\n static const int intMarker = 5;\\n \\n #ifndef OMITBAD\\n \\n \\n #endif \\n \\n #ifndef OMITGOOD\\n \\n \\n \\n \\n \\n \\n \\n \\n \\n \\n #endif \\n \\n \\n \\n #ifdef INCLUDEMAIN\\n \\n \\n #endif\\n void VoidFunctionMarker()\\n {\\n     int intMarker;\\n     \\n     intMarker = 0;\\n     if(intMarker==5)\\n     {\\n         \\n         intMarker = INT_MAX;\\n     }\\n     if(intMark...   \n",
              "43778  \\n \\n \\n #include \"IncludeMarker\"\\n \\n #include <IncludeMarker>\\n \\n #ifndef OMITBAD\\n \\n \\n #endif \\n \\n #ifndef OMITGOOD\\n \\n \\n \\n \\n #endif \\n \\n \\n \\n #ifdef INCLUDEMAIN\\n \\n \\n #endif\\n void VoidFunctionMarker()\\n {\\n     char * charPointerMarker;\\n     charPointerMarker = NULL; \\n     \\n     charPointerMarker = (char *)malloc(20*20PointerMarker(char));\\n     if(globalReturnsTrueOrFalse(...   \n",
              "33306  \\n \\n \\n #include \"IncludeMarker\"\\n \\n #include <IncludeMarker>\\n #include <IncludeMarker>\\n #pragma comment(lib, \"advapi32.lib\")\\n \\n #define DefineMarker 128\\n #define DefineMarker (512 / 8)\\n \\n #define DefineMarker (128 / 8)\\n \\n #ifndef OMITBAD\\n \\n \\n #endif \\n \\n #ifndef OMITGOOD\\n \\n \\n \\n #endif \\n \\n \\n \\n #ifdef INCLUDEMAIN\\n \\n \\n #endif\\n void VoidFunctionMarker()\\n {\\n     {\\n   ...   \n",
              "40609  \\n \\n \\n #include \"IncludeMarker\"\\n \\n #include <IncludeMarker>\\n \\n #ifndef OMITBAD\\n \\n \\n #endif \\n \\n #ifndef OMITGOOD\\n \\n \\n \\n \\n \\n \\n #endif \\n \\n \\n \\n #ifdef INCLUDEMAIN\\n \\n \\n #endif\\n void VoidFunctionMarker()\\n {\\n     twoIntsStruct data;\\n     \\n     ; \\n     if(GLOBAL_CONST_TRUE)\\n     {\\n         \\n         \\n         ; \\n     }\\n }\\n\\n static void VoidFunctionMarker()\\n {\\n ...   \n",
              "34240  \\n \\n \\n #include \"IncludeMarker\"\\n \\n #ifndef OMITBAD\\n \\n \\n #endif \\n \\n #ifndef OMITGOOD\\n \\n \\n \\n \\n \\n \\n #endif \\n \\n \\n \\n #ifdef INCLUDEMAIN\\n \\n \\n #endif\\n void VoidFunctionMarker()\\n {\\n     int intMarker,intMarker;\\n     int intMarker;\\n     \\n     intMarker = -1;\\n     for(intMarker = 0; intMarker < 1; intMarker++)\\n     {\\n         \\n         intMarker = RAND32();\\n     }\\n    ...   \n",
              "\n",
              "      CWE-Type DataType  label  \n",
              "20087   CWE190     SARD      0  \n",
              "43778   CWE690     SARD      1  \n",
              "33306   CWE328     SARD      2  \n",
              "40609   CWE563     SARD      3  \n",
              "34240   CWE369     SARD      4  "
            ],
            "text/html": [
              "\n",
              "  <div id=\"df-5ec7e666-ff4e-4ac2-94f1-8b64ed407412\" class=\"colab-df-container\">\n",
              "    <div>\n",
              "<style scoped>\n",
              "    .dataframe tbody tr th:only-of-type {\n",
              "        vertical-align: middle;\n",
              "    }\n",
              "\n",
              "    .dataframe tbody tr th {\n",
              "        vertical-align: top;\n",
              "    }\n",
              "\n",
              "    .dataframe thead th {\n",
              "        text-align: right;\n",
              "    }\n",
              "</style>\n",
              "<table border=\"1\" class=\"dataframe\">\n",
              "  <thead>\n",
              "    <tr style=\"text-align: right;\">\n",
              "      <th></th>\n",
              "      <th>code</th>\n",
              "      <th>CWE-Type</th>\n",
              "      <th>DataType</th>\n",
              "      <th>label</th>\n",
              "    </tr>\n",
              "  </thead>\n",
              "  <tbody>\n",
              "    <tr>\n",
              "      <th>20087</th>\n",
              "      <td>\\n \\n \\n #include \"IncludeMarker\"\\n \\n \\n static const int intMarker = 5;\\n \\n #ifndef OMITBAD\\n \\n \\n #endif \\n \\n #ifndef OMITGOOD\\n \\n \\n \\n \\n \\n \\n \\n \\n \\n \\n #endif \\n \\n \\n \\n #ifdef INCLUDEMAIN\\n \\n \\n #endif\\n void VoidFunctionMarker()\\n {\\n     int intMarker;\\n     \\n     intMarker = 0;\\n     if(intMarker==5)\\n     {\\n         \\n         intMarker = INT_MAX;\\n     }\\n     if(intMark...</td>\n",
              "      <td>CWE190</td>\n",
              "      <td>SARD</td>\n",
              "      <td>0</td>\n",
              "    </tr>\n",
              "    <tr>\n",
              "      <th>43778</th>\n",
              "      <td>\\n \\n \\n #include \"IncludeMarker\"\\n \\n #include &lt;IncludeMarker&gt;\\n \\n #ifndef OMITBAD\\n \\n \\n #endif \\n \\n #ifndef OMITGOOD\\n \\n \\n \\n \\n #endif \\n \\n \\n \\n #ifdef INCLUDEMAIN\\n \\n \\n #endif\\n void VoidFunctionMarker()\\n {\\n     char * charPointerMarker;\\n     charPointerMarker = NULL; \\n     \\n     charPointerMarker = (char *)malloc(20*20PointerMarker(char));\\n     if(globalReturnsTrueOrFalse(...</td>\n",
              "      <td>CWE690</td>\n",
              "      <td>SARD</td>\n",
              "      <td>1</td>\n",
              "    </tr>\n",
              "    <tr>\n",
              "      <th>33306</th>\n",
              "      <td>\\n \\n \\n #include \"IncludeMarker\"\\n \\n #include &lt;IncludeMarker&gt;\\n #include &lt;IncludeMarker&gt;\\n #pragma comment(lib, \"advapi32.lib\")\\n \\n #define DefineMarker 128\\n #define DefineMarker (512 / 8)\\n \\n #define DefineMarker (128 / 8)\\n \\n #ifndef OMITBAD\\n \\n \\n #endif \\n \\n #ifndef OMITGOOD\\n \\n \\n \\n #endif \\n \\n \\n \\n #ifdef INCLUDEMAIN\\n \\n \\n #endif\\n void VoidFunctionMarker()\\n {\\n     {\\n   ...</td>\n",
              "      <td>CWE328</td>\n",
              "      <td>SARD</td>\n",
              "      <td>2</td>\n",
              "    </tr>\n",
              "    <tr>\n",
              "      <th>40609</th>\n",
              "      <td>\\n \\n \\n #include \"IncludeMarker\"\\n \\n #include &lt;IncludeMarker&gt;\\n \\n #ifndef OMITBAD\\n \\n \\n #endif \\n \\n #ifndef OMITGOOD\\n \\n \\n \\n \\n \\n \\n #endif \\n \\n \\n \\n #ifdef INCLUDEMAIN\\n \\n \\n #endif\\n void VoidFunctionMarker()\\n {\\n     twoIntsStruct data;\\n     \\n     ; \\n     if(GLOBAL_CONST_TRUE)\\n     {\\n         \\n         \\n         ; \\n     }\\n }\\n\\n static void VoidFunctionMarker()\\n {\\n ...</td>\n",
              "      <td>CWE563</td>\n",
              "      <td>SARD</td>\n",
              "      <td>3</td>\n",
              "    </tr>\n",
              "    <tr>\n",
              "      <th>34240</th>\n",
              "      <td>\\n \\n \\n #include \"IncludeMarker\"\\n \\n #ifndef OMITBAD\\n \\n \\n #endif \\n \\n #ifndef OMITGOOD\\n \\n \\n \\n \\n \\n \\n #endif \\n \\n \\n \\n #ifdef INCLUDEMAIN\\n \\n \\n #endif\\n void VoidFunctionMarker()\\n {\\n     int intMarker,intMarker;\\n     int intMarker;\\n     \\n     intMarker = -1;\\n     for(intMarker = 0; intMarker &lt; 1; intMarker++)\\n     {\\n         \\n         intMarker = RAND32();\\n     }\\n    ...</td>\n",
              "      <td>CWE369</td>\n",
              "      <td>SARD</td>\n",
              "      <td>4</td>\n",
              "    </tr>\n",
              "  </tbody>\n",
              "</table>\n",
              "</div>\n",
              "    <div class=\"colab-df-buttons\">\n",
              "\n",
              "  <div class=\"colab-df-container\">\n",
              "    <button class=\"colab-df-convert\" onclick=\"convertToInteractive('df-5ec7e666-ff4e-4ac2-94f1-8b64ed407412')\"\n",
              "            title=\"Convert this dataframe to an interactive table.\"\n",
              "            style=\"display:none;\">\n",
              "\n",
              "  <svg xmlns=\"http://www.w3.org/2000/svg\" height=\"24px\" viewBox=\"0 -960 960 960\">\n",
              "    <path d=\"M120-120v-720h720v720H120Zm60-500h600v-160H180v160Zm220 220h160v-160H400v160Zm0 220h160v-160H400v160ZM180-400h160v-160H180v160Zm440 0h160v-160H620v160ZM180-180h160v-160H180v160Zm440 0h160v-160H620v160Z\"/>\n",
              "  </svg>\n",
              "    </button>\n",
              "\n",
              "  <style>\n",
              "    .colab-df-container {\n",
              "      display:flex;\n",
              "      gap: 12px;\n",
              "    }\n",
              "\n",
              "    .colab-df-convert {\n",
              "      background-color: #E8F0FE;\n",
              "      border: none;\n",
              "      border-radius: 50%;\n",
              "      cursor: pointer;\n",
              "      display: none;\n",
              "      fill: #1967D2;\n",
              "      height: 32px;\n",
              "      padding: 0 0 0 0;\n",
              "      width: 32px;\n",
              "    }\n",
              "\n",
              "    .colab-df-convert:hover {\n",
              "      background-color: #E2EBFA;\n",
              "      box-shadow: 0px 1px 2px rgba(60, 64, 67, 0.3), 0px 1px 3px 1px rgba(60, 64, 67, 0.15);\n",
              "      fill: #174EA6;\n",
              "    }\n",
              "\n",
              "    .colab-df-buttons div {\n",
              "      margin-bottom: 4px;\n",
              "    }\n",
              "\n",
              "    [theme=dark] .colab-df-convert {\n",
              "      background-color: #3B4455;\n",
              "      fill: #D2E3FC;\n",
              "    }\n",
              "\n",
              "    [theme=dark] .colab-df-convert:hover {\n",
              "      background-color: #434B5C;\n",
              "      box-shadow: 0px 1px 3px 1px rgba(0, 0, 0, 0.15);\n",
              "      filter: drop-shadow(0px 1px 2px rgba(0, 0, 0, 0.3));\n",
              "      fill: #FFFFFF;\n",
              "    }\n",
              "  </style>\n",
              "\n",
              "    <script>\n",
              "      const buttonEl =\n",
              "        document.querySelector('#df-5ec7e666-ff4e-4ac2-94f1-8b64ed407412 button.colab-df-convert');\n",
              "      buttonEl.style.display =\n",
              "        google.colab.kernel.accessAllowed ? 'block' : 'none';\n",
              "\n",
              "      async function convertToInteractive(key) {\n",
              "        const element = document.querySelector('#df-5ec7e666-ff4e-4ac2-94f1-8b64ed407412');\n",
              "        const dataTable =\n",
              "          await google.colab.kernel.invokeFunction('convertToInteractive',\n",
              "                                                    [key], {});\n",
              "        if (!dataTable) return;\n",
              "\n",
              "        const docLinkHtml = 'Like what you see? Visit the ' +\n",
              "          '<a target=\"_blank\" href=https://colab.research.google.com/notebooks/data_table.ipynb>data table notebook</a>'\n",
              "          + ' to learn more about interactive tables.';\n",
              "        element.innerHTML = '';\n",
              "        dataTable['output_type'] = 'display_data';\n",
              "        await google.colab.output.renderOutput(dataTable, element);\n",
              "        const docLink = document.createElement('div');\n",
              "        docLink.innerHTML = docLinkHtml;\n",
              "        element.appendChild(docLink);\n",
              "      }\n",
              "    </script>\n",
              "  </div>\n",
              "\n",
              "\n",
              "<div id=\"df-a3625315-0812-498e-9736-c52097a264ca\">\n",
              "  <button class=\"colab-df-quickchart\" onclick=\"quickchart('df-a3625315-0812-498e-9736-c52097a264ca')\"\n",
              "            title=\"Suggest charts\"\n",
              "            style=\"display:none;\">\n",
              "\n",
              "<svg xmlns=\"http://www.w3.org/2000/svg\" height=\"24px\"viewBox=\"0 0 24 24\"\n",
              "     width=\"24px\">\n",
              "    <g>\n",
              "        <path d=\"M19 3H5c-1.1 0-2 .9-2 2v14c0 1.1.9 2 2 2h14c1.1 0 2-.9 2-2V5c0-1.1-.9-2-2-2zM9 17H7v-7h2v7zm4 0h-2V7h2v10zm4 0h-2v-4h2v4z\"/>\n",
              "    </g>\n",
              "</svg>\n",
              "  </button>\n",
              "\n",
              "<style>\n",
              "  .colab-df-quickchart {\n",
              "      --bg-color: #E8F0FE;\n",
              "      --fill-color: #1967D2;\n",
              "      --hover-bg-color: #E2EBFA;\n",
              "      --hover-fill-color: #174EA6;\n",
              "      --disabled-fill-color: #AAA;\n",
              "      --disabled-bg-color: #DDD;\n",
              "  }\n",
              "\n",
              "  [theme=dark] .colab-df-quickchart {\n",
              "      --bg-color: #3B4455;\n",
              "      --fill-color: #D2E3FC;\n",
              "      --hover-bg-color: #434B5C;\n",
              "      --hover-fill-color: #FFFFFF;\n",
              "      --disabled-bg-color: #3B4455;\n",
              "      --disabled-fill-color: #666;\n",
              "  }\n",
              "\n",
              "  .colab-df-quickchart {\n",
              "    background-color: var(--bg-color);\n",
              "    border: none;\n",
              "    border-radius: 50%;\n",
              "    cursor: pointer;\n",
              "    display: none;\n",
              "    fill: var(--fill-color);\n",
              "    height: 32px;\n",
              "    padding: 0;\n",
              "    width: 32px;\n",
              "  }\n",
              "\n",
              "  .colab-df-quickchart:hover {\n",
              "    background-color: var(--hover-bg-color);\n",
              "    box-shadow: 0 1px 2px rgba(60, 64, 67, 0.3), 0 1px 3px 1px rgba(60, 64, 67, 0.15);\n",
              "    fill: var(--button-hover-fill-color);\n",
              "  }\n",
              "\n",
              "  .colab-df-quickchart-complete:disabled,\n",
              "  .colab-df-quickchart-complete:disabled:hover {\n",
              "    background-color: var(--disabled-bg-color);\n",
              "    fill: var(--disabled-fill-color);\n",
              "    box-shadow: none;\n",
              "  }\n",
              "\n",
              "  .colab-df-spinner {\n",
              "    border: 2px solid var(--fill-color);\n",
              "    border-color: transparent;\n",
              "    border-bottom-color: var(--fill-color);\n",
              "    animation:\n",
              "      spin 1s steps(1) infinite;\n",
              "  }\n",
              "\n",
              "  @keyframes spin {\n",
              "    0% {\n",
              "      border-color: transparent;\n",
              "      border-bottom-color: var(--fill-color);\n",
              "      border-left-color: var(--fill-color);\n",
              "    }\n",
              "    20% {\n",
              "      border-color: transparent;\n",
              "      border-left-color: var(--fill-color);\n",
              "      border-top-color: var(--fill-color);\n",
              "    }\n",
              "    30% {\n",
              "      border-color: transparent;\n",
              "      border-left-color: var(--fill-color);\n",
              "      border-top-color: var(--fill-color);\n",
              "      border-right-color: var(--fill-color);\n",
              "    }\n",
              "    40% {\n",
              "      border-color: transparent;\n",
              "      border-right-color: var(--fill-color);\n",
              "      border-top-color: var(--fill-color);\n",
              "    }\n",
              "    60% {\n",
              "      border-color: transparent;\n",
              "      border-right-color: var(--fill-color);\n",
              "    }\n",
              "    80% {\n",
              "      border-color: transparent;\n",
              "      border-right-color: var(--fill-color);\n",
              "      border-bottom-color: var(--fill-color);\n",
              "    }\n",
              "    90% {\n",
              "      border-color: transparent;\n",
              "      border-bottom-color: var(--fill-color);\n",
              "    }\n",
              "  }\n",
              "</style>\n",
              "\n",
              "  <script>\n",
              "    async function quickchart(key) {\n",
              "      const quickchartButtonEl =\n",
              "        document.querySelector('#' + key + ' button');\n",
              "      quickchartButtonEl.disabled = true;  // To prevent multiple clicks.\n",
              "      quickchartButtonEl.classList.add('colab-df-spinner');\n",
              "      try {\n",
              "        const charts = await google.colab.kernel.invokeFunction(\n",
              "            'suggestCharts', [key], {});\n",
              "      } catch (error) {\n",
              "        console.error('Error during call to suggestCharts:', error);\n",
              "      }\n",
              "      quickchartButtonEl.classList.remove('colab-df-spinner');\n",
              "      quickchartButtonEl.classList.add('colab-df-quickchart-complete');\n",
              "    }\n",
              "    (() => {\n",
              "      let quickchartButtonEl =\n",
              "        document.querySelector('#df-a3625315-0812-498e-9736-c52097a264ca button');\n",
              "      quickchartButtonEl.style.display =\n",
              "        google.colab.kernel.accessAllowed ? 'block' : 'none';\n",
              "    })();\n",
              "  </script>\n",
              "</div>\n",
              "\n",
              "    </div>\n",
              "  </div>\n"
            ],
            "application/vnd.google.colaboratory.intrinsic+json": {
              "type": "dataframe",
              "variable_name": "df",
              "summary": "{\n  \"name\": \"df\",\n  \"rows\": 5000,\n  \"fields\": [\n    {\n      \"column\": \"code\",\n      \"properties\": {\n        \"dtype\": \"string\",\n        \"num_unique_values\": 4237,\n        \"samples\": [\n          \"\\n \\n \\n #include \\\"IncludeMarker\\\"\\n \\n #include <IncludeMarker>\\n \\n \\n static volatile sig_atomic_t volatileSigAtomic = 0;\\n \\n \\n #ifndef OMITBAD\\n \\n \\n #endif \\n \\n #ifndef OMITGOOD\\n \\n \\n static void VoidFunctionMarker(int intMarker)\\n {\\n     \\n     \\n     void *voidPointer = malloc(10);\\n     if (voidPointer == NULL) {exit(-1);}\\n     free(voidPointer);\\n }\\n\\n static void VoidFunctionMarker(int intMarker)\\n {\\n     \\n     volatileSigAtomic = intMarker;\\n }\\n\\n void VoidFunctionMarker()\\n {\\n     if(GLOBAL_CONST_FIVE==5)\\n     {\\n         signal(SIGINT, VoidFunctionMarker);\\n     }\\n }\\n\\n static void VoidFunctionMarker()\\n {\\n     if(GLOBAL_CONST_FIVE!=5)\\n     {\\n         \\n         printLine(\\\"Benign, fixed string\\\");\\n     }\\n     else\\n     {\\n         signal(SIGINT, VoidFunctionMarker);\\n     }\\n }\\n\\n static void VoidFunctionMarker()\\n {\\n     if(GLOBAL_CONST_FIVE==5)\\n     {\\n         signal(SIGINT, VoidFunctionMarker);\\n     }\\n }\\n\\n void VoidFunctionMarker()\\n {\\n     VoidFunctionMarker();\\n     VoidFunctionMarker();\\n }\\n\\n int IntFunctionMarker(int intMarker, char * charPointerMarker[])\\n {\\n     \\n     srand( (unsigned)time(NULL) );\\n #ifndef OMITGOOD\\n     printLine(\\\"Calling good()...\\\");\\n     VoidFunctionMarker();\\n     printLine(\\\"Finished good()\\\");\\n #endif \\n #ifndef OMITBAD\\n     printLine(\\\"Calling bad()...\\\");\\n     VoidFunctionMarker();\\n     printLine(\\\"Finished bad()\\\");\\n #endif \\n     return 0;\\n }\\n\\n\",\n          \"\\n \\n #include \\\"IncludeMarker\\\"\\n \\n #ifndef OMITBAD\\n \\n static int intMarker = 0;\\n \\n \\n #endif \\n \\n #ifndef OMITGOOD\\n \\n static int intMarker = 5;\\n \\n \\n \\n #endif \\n \\n \\n \\n #ifdef INCLUDEMAIN\\n \\n \\n #endif void VoidFunctionMarker() \\n {\\n     \\n     intMarker = 10;\\n     printIntLine(intMarker);\\n }\\n\\n static void VoidFunctionMarker() \\n {\\n     \\n     printIntLine(intMarker);\\n }\\n\\n void VoidFunctionMarker() \\n {\\n     VoidFunctionMarker();\\n }\\n\\n int IntFunctionMarker(int intMarker, char * charPointerMarker[]) \\n {\\n     \\n     srand( (unsigned)time(NULL) );\\n \\n #ifndef OMITGOOD\\n     printLine(\\\"Calling good()...\\\");\\n     VoidFunctionMarker();\\n     printLine(\\\"Finished good()\\\");\\n #endif \\n \\n #ifndef OMITBAD\\n     printLine(\\\"Calling bad()...\\\");\\n     VoidFunctionMarker();\\n     printLine(\\\"Finished bad()\\\");\\n #endif \\n \\n     return 0;\\n } \\n\\n\",\n          \"\\n \\n \\n #include \\\"IncludeMarker\\\"\\n \\n #include <IncludeMarker>\\n #include <IncludeMarker>\\n #pragma comment(lib, \\\"advapi32.lib\\\")\\n \\n #define DefineMarker 128\\n #define DefineMarker (512 / 8)\\n \\n #define DefineMarker (128 / 8)\\n \\n \\n static const int intMarker = 1; \\n static const int intMarker = 0; \\n \\n #ifndef OMITBAD\\n \\n \\n #endif \\n \\n #ifndef OMITGOOD\\n \\n \\n \\n \\n \\n \\n #endif \\n \\n \\n \\n #ifdef INCLUDEMAIN\\n \\n \\n #endif\\n void VoidFunctionMarker()\\n {\\n     if(intMarker)\\n     {\\n         {\\n             HCRYPTPROV hCryptProv;\\n             HCRYPTHASH hHash;\\n             FILE *FILEPointerMarker = NULL;\\n             char charMarkerArray[DefineMarker];\\n             UCHAR savedHash[DefineMarker], calcHash[DefineMarker];\\n             DWORD hashSize;\\n             char *charPointerMarker;\\n             size_t i;\\n             FILEPointerMarker = fopen(\\\"charMarkerArray.txt\\\", \\\"r\\\");\\n             if (FILEPointerMarker == NULL)\\n             {\\n                 exit(1);\\n             }\\n             for (i = 0; i < DefineMarker; i++)\\n             {\\n                 ULONG val;\\n                 if (fscanf(FILEPointerMarker, \\\"%02x\\\", &val) != 1)\\n                 {\\n                     fclose(FILEPointerMarker);\\n                     exit(1);\\n                 }\\n                 if (val > 0xff) \\n                 {\\n                     fclose(FILEPointerMarker);\\n                     exit(1);\\n                 }\\n                 savedHash[i] = (UCHAR)val;\\n             }\\n             if (FILEPointerMarker)\\n             {\\n                 fclose(FILEPointerMarker);\\n             }\\n             if (fgets(charMarkerArray, DefineMarker, stdin) == NULL)\\n             {\\n                 exit(1);\\n             }\\n             charPointerMarker = strchr(charMarkerArray, '\\\\r');\\n             if (charPointerMarker)\\n             {\\n                 *charPointerMarker = '\\\\0';\\n             }\\n             charPointerMarker = strchr(charMarkerArray, '\\\\n');\\n             if (charPointerMarker)\\n             {\\n                 *charPointerMarker = '\\\\0';\\n             }\\n             if (!CryptAcquireContextW(&hCryptProv, 0, 0, PROV_RSA_FULL, 0))\\n             {\\n                 exit(1);\\n             }\\n             \\n             if (!CryptCreateHash(hCryptProv, CALG_MD2, 0, 0, &hHash))\\n             {\\n                 CryptReleaseContext(hCryptProv, 0);\\n                 exit(1);\\n             }\\n             \\n             if (!CryptHashData(hHash, (BYTE*)charMarkerArray, strlen(charMarkerArray), 0))\\n             {\\n                 CryptDestroyHash(hHash);\\n                 CryptReleaseContext(hCryptProv, 0);\\n                 exit(1);\\n             }\\n             hashSize = DefineMarker;\\n             if (!CryptGetHashParam(hHash, HP_HASHVAL, (BYTE*)calcHash, &hashSize, 0))\\n             {\\n                 CryptDestroyHash(hHash);\\n                 CryptReleaseContext(hCryptProv, 0);\\n                 exit(1);\\n             }\\n             if (memcmp(savedHash, calcHash, DefineMarker * MD2_SUM_SIZEPointerMarker(UCHAR)) == 0)\\n             {\\n                 printLine(\\\"Access granted\\\");\\n             }\\n             else\\n             {\\n                 printLine(\\\"Access denied\\\");\\n             }\\n             if (hHash)\\n             {\\n                 CryptDestroyHash(hHash);\\n             }\\n             if (hCryptProv)\\n             {\\n                 CryptReleaseContext(hCryptProv, 0);\\n             }\\n         }\\n     }\\n }\\n\\n static void VoidFunctionMarker()\\n {\\n     if(intMarker)\\n     {\\n         \\n         printLine(\\\"Benign, fixed string\\\");\\n     }\\n     else\\n     {\\n         {\\n             HCRYPTPROV hCryptProv;\\n             HCRYPTHASH hHash;\\n             FILE *FILEPointerMarker = NULL;\\n             char charMarkerArray[DefineMarker];\\n             UCHAR savedHash[DefineMarker], calcHash[DefineMarker];\\n             DWORD hashSize;\\n             char *charPointerMarker;\\n             size_t i;\\n             FILEPointerMarker = fopen(\\\"charMarkerArray.txt\\\", \\\"r\\\");\\n             if (FILEPointerMarker == NULL)\\n             {\\n                 exit(1);\\n             }\\n             for (i = 0; i < DefineMarker; i++)\\n             {\\n                 ULONG val;\\n                 if (fscanf(FILEPointerMarker, \\\"%02x\\\", &val) != 1)\\n                 {\\n                     fclose(FILEPointerMarker);\\n                     exit(1);\\n                 }\\n                 if (val > 0xff) \\n                 {\\n                     fclose(FILEPointerMarker);\\n                     exit(1);\\n                 }\\n                 savedHash[i] = (UCHAR)val;\\n             }\\n             fclose(FILEPointerMarker);\\n             if (fgets(charMarkerArray, DefineMarker, stdin) == NULL)\\n             {\\n                 exit(1);\\n             }\\n             charPointerMarker = strchr(charMarkerArray, '\\\\r');\\n             if (charPointerMarker)\\n             {\\n                 *charPointerMarker = '\\\\0';\\n             }\\n             charPointerMarker = strchr(charMarkerArray, '\\\\n');\\n             if (charPointerMarker)\\n             {\\n                 *charPointerMarker = '\\\\0';\\n             }\\n             if (!CryptAcquireContextW(&hCryptProv, 0, 0, PROV_RSA_FULL, 0))\\n             {\\n                 exit(1);\\n             }\\n             \\n             if (!CryptCreateHash(hCryptProv, CALG_SHA_512, 0, 0, &hHash))\\n             {\\n                 CryptReleaseContext(hCryptProv, 0);\\n                 exit(1);\\n             }\\n             \\n             if (!CryptHashData(hHash, (BYTE*)charMarkerArray, strlen(charMarkerArray), 0))\\n             {\\n                 CryptDestroyHash(hHash);\\n                 CryptReleaseContext(hCryptProv, 0);\\n                 exit(1);\\n             }\\n             hashSize = DefineMarker;\\n             if (!CryptGetHashParam(hHash, HP_HASHVAL, (BYTE*)calcHash, &hashSize, 0))\\n             {\\n                 CryptDestroyHash(hHash);\\n                 CryptReleaseContext(hCryptProv, 0);\\n                 exit(1);\\n             }\\n             if (memcmp(savedHash, calcHash, DefineMarker * SHA512_SUM_SIZEPointerMarker(UCHAR)) == 0)\\n             {\\n                 printLine(\\\"Access granted\\\");\\n             }\\n             else\\n             {\\n                 printLine(\\\"Access denied\\\");\\n             }\\n             if (hHash)\\n             {\\n                 CryptDestroyHash(hHash);\\n             }\\n             if (hCryptProv)\\n             {\\n                 CryptReleaseContext(hCryptProv, 0);\\n             }\\n         }\\n     }\\n }\\n\\n static void VoidFunctionMarker()\\n {\\n     if(intMarker)\\n     {\\n         {\\n             HCRYPTPROV hCryptProv;\\n             HCRYPTHASH hHash;\\n             FILE *FILEPointerMarker = NULL;\\n             char charMarkerArray[DefineMarker];\\n             UCHAR savedHash[DefineMarker], calcHash[DefineMarker];\\n             DWORD hashSize;\\n             char *charPointerMarker;\\n             size_t i;\\n             FILEPointerMarker = fopen(\\\"charMarkerArray.txt\\\", \\\"r\\\");\\n             if (FILEPointerMarker == NULL)\\n             {\\n                 exit(1);\\n             }\\n             for (i = 0; i < DefineMarker; i++)\\n             {\\n                 ULONG val;\\n                 if (fscanf(FILEPointerMarker, \\\"%02x\\\", &val) != 1)\\n                 {\\n                     fclose(FILEPointerMarker);\\n                     exit(1);\\n                 }\\n                 if (val > 0xff) \\n                 {\\n                     fclose(FILEPointerMarker);\\n                     exit(1);\\n                 }\\n                 savedHash[i] = (UCHAR)val;\\n             }\\n             fclose(FILEPointerMarker);\\n             if (fgets(charMarkerArray, DefineMarker, stdin) == NULL)\\n             {\\n                 exit(1);\\n             }\\n             charPointerMarker = strchr(charMarkerArray, '\\\\r');\\n             if (charPointerMarker)\\n             {\\n                 *charPointerMarker = '\\\\0';\\n             }\\n             charPointerMarker = strchr(charMarkerArray, '\\\\n');\\n             if (charPointerMarker)\\n             {\\n                 *charPointerMarker = '\\\\0';\\n             }\\n             if (!CryptAcquireContextW(&hCryptProv, 0, 0, PROV_RSA_FULL, 0))\\n             {\\n                 exit(1);\\n             }\\n             \\n             if (!CryptCreateHash(hCryptProv, CALG_SHA_512, 0, 0, &hHash))\\n             {\\n                 CryptReleaseContext(hCryptProv, 0);\\n                 exit(1);\\n             }\\n             \\n             if (!CryptHashData(hHash, (BYTE*)charMarkerArray, strlen(charMarkerArray), 0))\\n             {\\n                 CryptDestroyHash(hHash);\\n                 CryptReleaseContext(hCryptProv, 0);\\n                 exit(1);\\n             }\\n             hashSize = DefineMarker;\\n             if (!CryptGetHashParam(hHash, HP_HASHVAL, (BYTE*)calcHash, &hashSize, 0))\\n             {\\n                 CryptDestroyHash(hHash);\\n                 CryptReleaseContext(hCryptProv, 0);\\n                 exit(1);\\n             }\\n             if (memcmp(savedHash, calcHash, DefineMarker * SHA512_SUM_SIZEPointerMarker(UCHAR)) == 0)\\n             {\\n                 printLine(\\\"Access granted\\\");\\n             }\\n             else\\n             {\\n                 printLine(\\\"Access denied\\\");\\n             }\\n             if (hHash)\\n             {\\n                 CryptDestroyHash(hHash);\\n             }\\n             if (hCryptProv)\\n             {\\n                 CryptReleaseContext(hCryptProv, 0);\\n             }\\n         }\\n     }\\n }\\n\\n void VoidFunctionMarker()\\n {\\n     VoidFunctionMarker();\\n     VoidFunctionMarker();\\n }\\n\\n int IntFunctionMarker(int intMarker, char * charPointerMarker[])\\n {\\n     \\n     srand( (unsigned)time(NULL) );\\n #ifndef OMITGOOD\\n     printLine(\\\"Calling good()...\\\");\\n     VoidFunctionMarker();\\n     printLine(\\\"Finished good()\\\");\\n #endif \\n #ifndef OMITBAD\\n     printLine(\\\"Calling bad()...\\\");\\n     VoidFunctionMarker();\\n     printLine(\\\"Finished bad()\\\");\\n #endif \\n     return 0;\\n }\\n\\n\"\n        ],\n        \"semantic_type\": \"\",\n        \"description\": \"\"\n      }\n    },\n    {\n      \"column\": \"CWE-Type\",\n      \"properties\": {\n        \"dtype\": \"category\",\n        \"num_unique_values\": 98,\n        \"samples\": [\n          \"CWE398\",\n          \"CWE114\",\n          \"CWE390\"\n        ],\n        \"semantic_type\": \"\",\n        \"description\": \"\"\n      }\n    },\n    {\n      \"column\": \"DataType\",\n      \"properties\": {\n        \"dtype\": \"category\",\n        \"num_unique_values\": 1,\n        \"samples\": [\n          \"SARD\"\n        ],\n        \"semantic_type\": \"\",\n        \"description\": \"\"\n      }\n    },\n    {\n      \"column\": \"label\",\n      \"properties\": {\n        \"dtype\": \"number\",\n        \"std\": 17,\n        \"min\": 0,\n        \"max\": 97,\n        \"num_unique_values\": 98,\n        \"samples\": [\n          62\n        ],\n        \"semantic_type\": \"\",\n        \"description\": \"\"\n      }\n    }\n  ]\n}"
            }
          },
          "metadata": {},
          "execution_count": 23
        }
      ]
    },
    {
      "cell_type": "markdown",
      "source": [
        "Split the dataset into training and testing sets"
      ],
      "metadata": {
        "id": "gB8DCko-zo-c"
      }
    },
    {
      "cell_type": "code",
      "source": [
        "df_train, df_test = train_test_split(df, test_size=0.2, random_state=42)"
      ],
      "metadata": {
        "execution": {
          "iopub.status.busy": "2023-12-08T02:47:00.722384Z",
          "iopub.execute_input": "2023-12-08T02:47:00.722772Z",
          "iopub.status.idle": "2023-12-08T02:47:00.74311Z",
          "shell.execute_reply.started": "2023-12-08T02:47:00.722743Z",
          "shell.execute_reply": "2023-12-08T02:47:00.741923Z"
        },
        "trusted": true,
        "id": "niMHE840zo-c"
      },
      "execution_count": null,
      "outputs": []
    },
    {
      "cell_type": "markdown",
      "source": [],
      "metadata": {
        "id": "oDg02o963MMn"
      }
    },
    {
      "cell_type": "markdown",
      "source": [
        "### 2. CodeBert Model <a name='bert'></a>"
      ],
      "metadata": {
        "id": "OLAi_do8zo-d"
      }
    },
    {
      "cell_type": "markdown",
      "source": [
        "To load the data we will use the [Datasets Library](https://huggingface.co/docs/datasets/index).\n",
        "\n",
        "Datasets is a library for easily accessing and sharing data sets for audio, computer vision, and natural language processing (NLP) tasks.\n",
        "\n",
        "Allows you to load data sets and use built-in data processing methods to prepare datasets for use in training neural network models. The library supports the Apache Arrow format and processes large data sets without any memory limitations for optimal speed and efficiency. The library is also integrated with Hugging Face Hub, making it easy to download the dataset and share it with the community."
      ],
      "metadata": {
        "id": "rgVhh7_lzo-d"
      }
    },
    {
      "cell_type": "code",
      "source": [
        "dataset = {}\n",
        "dataset['text'] = list(df_train['code'])\n",
        "dataset['label'] = list(df_train['label'])\n",
        "ds = Dataset.from_dict(dataset)\n",
        "ds = ds.train_test_split(test_size=0.1)"
      ],
      "metadata": {
        "execution": {
          "iopub.status.busy": "2023-12-08T02:47:03.518324Z",
          "iopub.execute_input": "2023-12-08T02:47:03.519602Z",
          "iopub.status.idle": "2023-12-08T02:47:04.145155Z",
          "shell.execute_reply.started": "2023-12-08T02:47:03.519559Z",
          "shell.execute_reply": "2023-12-08T02:47:04.144113Z"
        },
        "trusted": true,
        "id": "h0NLnHYRzo-d"
      },
      "execution_count": null,
      "outputs": []
    },
    {
      "cell_type": "code",
      "source": [
        "tokenizer = RobertaTokenizer.from_pretrained('microsoft/codebert-base-mlm')"
      ],
      "metadata": {
        "execution": {
          "iopub.status.busy": "2023-12-08T02:47:07.782984Z",
          "iopub.execute_input": "2023-12-08T02:47:07.783796Z",
          "iopub.status.idle": "2023-12-08T02:47:08.88533Z",
          "shell.execute_reply.started": "2023-12-08T02:47:07.783761Z",
          "shell.execute_reply": "2023-12-08T02:47:08.884328Z"
        },
        "trusted": true,
        "id": "G6Nq-K2-zo-e"
      },
      "execution_count": null,
      "outputs": []
    },
    {
      "cell_type": "code",
      "source": [
        "def preprocess_function(examples):\n",
        "    return tokenizer(examples[\"text\"], truncation=True)\n",
        "\n",
        "tokenized_dataset = ds.map(preprocess_function, batched=True)"
      ],
      "metadata": {
        "execution": {
          "iopub.status.busy": "2023-12-08T02:47:11.039308Z",
          "iopub.execute_input": "2023-12-08T02:47:11.03972Z",
          "iopub.status.idle": "2023-12-08T02:52:13.249342Z",
          "shell.execute_reply.started": "2023-12-08T02:47:11.039688Z",
          "shell.execute_reply": "2023-12-08T02:52:13.24826Z"
        },
        "trusted": true,
        "colab": {
          "base_uri": "https://localhost:8080/",
          "height": 81,
          "referenced_widgets": [
            "59c7e603f16242c480fd30802d327e02",
            "5ea19221694b4b50bd9bdbb88cab989e",
            "8fd8cace931b4cb4881532af0a60dad7",
            "7355131bae6d42c2a256784885b5cea8",
            "1b013f6e9eb04913bc070b9761a9fe67",
            "a3d81d34508443bbb6c237a4e47722df",
            "7ba8b53d9eb145059c23265555ded123",
            "2ba0c435c1bb454ca995c3e77c71fc2a",
            "0f398ef6af8c4af2bd482e46ef16633b",
            "2df0f47f92bc4deebecaf62f964a4347",
            "436164b0eff146079b0684316628d5cb",
            "e933e0ad1e4b4778bb0f3f7be71e6300",
            "24519a080f02474591dbfce0c79481f3",
            "5ddf7dc0657d49fe99d2122cc9887801",
            "54930d12d4aa464f9ea366cf4543428b",
            "f671891aad844b38be96fac40b1e82e7",
            "cf616f6df406490eba4d53c3c85da393",
            "e06fadd990bb4d72b686b1f187e3eb5a",
            "e8c7e728013940ed8257bdf5cb9a1c1e",
            "aaaef6dd85944025a886496b49d3a403",
            "4d7cb04b4c004a739f995e316f59d0fe",
            "1c13a8a943b94280a479cf345598e07b"
          ]
        },
        "id": "kiWyJihXzo-e",
        "outputId": "cb8a9490-d708-4708-cb2b-7132eaa752b0"
      },
      "execution_count": null,
      "outputs": [
        {
          "output_type": "display_data",
          "data": {
            "text/plain": [
              "Map:   0%|          | 0/3600 [00:00<?, ? examples/s]"
            ],
            "application/vnd.jupyter.widget-view+json": {
              "version_major": 2,
              "version_minor": 0,
              "model_id": "59c7e603f16242c480fd30802d327e02"
            }
          },
          "metadata": {}
        },
        {
          "output_type": "display_data",
          "data": {
            "text/plain": [
              "Map:   0%|          | 0/400 [00:00<?, ? examples/s]"
            ],
            "application/vnd.jupyter.widget-view+json": {
              "version_major": 2,
              "version_minor": 0,
              "model_id": "e933e0ad1e4b4778bb0f3f7be71e6300"
            }
          },
          "metadata": {}
        }
      ]
    },
    {
      "cell_type": "markdown",
      "source": [
        "**Data Collator**\n",
        "\n",
        "Data Collators are objects that will form batches (portions of data) using a list of data set elements as input. These elements are the same type as train_dataset or eval_dataset elements.\n",
        "\n",
        "To be able to create batches, data collectors may apply some processing (for example, padding).  "
      ],
      "metadata": {
        "id": "h8AEIkcvzo-e"
      }
    },
    {
      "cell_type": "code",
      "source": [
        "data_collator = DataCollatorWithPadding(tokenizer=tokenizer)"
      ],
      "metadata": {
        "execution": {
          "iopub.status.busy": "2023-12-08T02:54:12.610323Z",
          "iopub.execute_input": "2023-12-08T02:54:12.61078Z",
          "iopub.status.idle": "2023-12-08T02:54:12.615869Z",
          "shell.execute_reply.started": "2023-12-08T02:54:12.610729Z",
          "shell.execute_reply": "2023-12-08T02:54:12.614679Z"
        },
        "trusted": true,
        "id": "kQjytcT2zo-e"
      },
      "execution_count": null,
      "outputs": []
    },
    {
      "cell_type": "markdown",
      "source": [
        "**Evaluate** A library for easily evaluating machine learning models and datasets.\n",
        "\n",
        "With one line of code, the library gives access to dozens of evaluation methods for various fields (NLP, computer vision, reinforcement learning, etc.)"
      ],
      "metadata": {
        "id": "udAA46q9zo-e"
      }
    },
    {
      "cell_type": "code",
      "source": [
        "accuracy = evaluate.load(\"accuracy\")\n",
        "\n",
        "def compute_metrics(eval_pred):\n",
        "    predictions, labels = eval_pred\n",
        "    predictions = np.argmax(predictions, axis=1)\n",
        "    return accuracy.compute(predictions=predictions, references=labels)"
      ],
      "metadata": {
        "execution": {
          "iopub.status.busy": "2023-12-08T02:54:18.055951Z",
          "iopub.execute_input": "2023-12-08T02:54:18.056358Z",
          "iopub.status.idle": "2023-12-08T02:54:18.508868Z",
          "shell.execute_reply.started": "2023-12-08T02:54:18.056325Z",
          "shell.execute_reply": "2023-12-08T02:54:18.507999Z"
        },
        "trusted": true,
        "id": "Larsyh8lzo-f"
      },
      "execution_count": null,
      "outputs": []
    },
    {
      "cell_type": "markdown",
      "source": [
        "[CodeBert](https://github.com/microsoft/CodeBERT)\n",
        "\n",
        "Pre-trained model taken from a Microsoft Research paper. The CodeSearchNet dataset was used to train this model, but instead of generating comments, it was used to train a RoBERTa-based model on human-readable representations of code and natural language."
      ],
      "metadata": {
        "id": "OsVR_aNTzo-f"
      }
    },
    {
      "cell_type": "code",
      "source": [
        "model = AutoModelForSequenceClassification.from_pretrained(\n",
        "    \"microsoft/codebert-base-mlm\", num_labels=unique, id2label=id2label, label2id=label2id\n",
        ")"
      ],
      "metadata": {
        "execution": {
          "iopub.status.busy": "2023-12-08T02:54:21.830808Z",
          "iopub.execute_input": "2023-12-08T02:54:21.831596Z",
          "iopub.status.idle": "2023-12-08T02:54:39.859941Z",
          "shell.execute_reply.started": "2023-12-08T02:54:21.831563Z",
          "shell.execute_reply": "2023-12-08T02:54:39.858839Z"
        },
        "trusted": true,
        "colab": {
          "base_uri": "https://localhost:8080/"
        },
        "id": "mYWYKAjIzo-f",
        "outputId": "2ca3b6c0-bcc2-48f0-f927-78cc25fffe04"
      },
      "execution_count": null,
      "outputs": [
        {
          "output_type": "stream",
          "name": "stderr",
          "text": [
            "Some weights of RobertaForSequenceClassification were not initialized from the model checkpoint at microsoft/codebert-base-mlm and are newly initialized: ['classifier.dense.bias', 'classifier.dense.weight', 'classifier.out_proj.bias', 'classifier.out_proj.weight']\n",
            "You should probably TRAIN this model on a down-stream task to be able to use it for predictions and inference.\n"
          ]
        }
      ]
    },
    {
      "cell_type": "markdown",
      "source": [
        " class The Trainer provides an API for full-featured training in PyTorch for most common use cases.\n",
        "\n",
        "Before instantiating a Trainer, you must create arguments for training to access all customization points during training.\n",
        "\n",
        "The API supports distributed training on multiple GPUs, mixed precision with NVIDIA Apex, and a native accelerator for PyTorch.\n",
        "\n",
        "Trainer contains a basic training loop that supports the above features. To implement custom functions, you can override the following methods:\n",
        "- get_train_dataloader — Creates the training DataLoader.\n",
        "- get_eval_dataloader — Creates the evaluation DataLoader.\n",
        "- get_test_dataloader — Creates the test DataLoader.\n",
        "- log — Logs information on the various objects watching training.\n",
        "- create_optimizer_and_scheduler — Sets up the optimizer and learning rate scheduler if they were not passed at - init. Note, that you can also subclass or override the create_optimizer and create_scheduler methods separately.\n",
        "- create_optimizer — Sets up the optimizer if it wasn’t passed at init.\n",
        "- create_scheduler — Sets up the learning rate scheduler if it wasn’t passed at init.\n",
        "- compute_loss - Computes the loss on a batch of training inputs.\n",
        "- training_step — Performs a training step.\n",
        "- prediction_step — Performs an evaluation/test step.\n",
        "- evaluate — Runs an evaluation loop and returns metrics.\n",
        "- predict — Returns predictions (with metrics if labels are available) on a test set."
      ],
      "metadata": {
        "id": "MC_SvnAEzo-g"
      }
    },
    {
      "cell_type": "code",
      "source": [
        "training_args = TrainingArguments(\n",
        "    output_dir=\"trained_model\",\n",
        "    learning_rate=2e-5,\n",
        "    per_device_train_batch_size=16,\n",
        "    per_device_eval_batch_size=16,\n",
        "    num_train_epochs=1,\n",
        "    weight_decay=0.01,\n",
        "    evaluation_strategy=\"epoch\",\n",
        "    save_strategy=\"epoch\",\n",
        "    load_best_model_at_end=True,\n",
        "    #report_to=\"wandb\"\n",
        ")\n",
        "\n",
        "trainer = Trainer(\n",
        "    model=model,\n",
        "    args=training_args,\n",
        "    train_dataset=tokenized_dataset[\"train\"],\n",
        "    eval_dataset=tokenized_dataset[\"test\"],\n",
        "    tokenizer=tokenizer,\n",
        "    data_collator=data_collator,\n",
        "    compute_metrics=compute_metrics,\n",
        ")\n",
        "\n",
        "trainer.train()"
      ],
      "metadata": {
        "execution": {
          "iopub.status.busy": "2023-12-08T02:54:46.018855Z",
          "iopub.execute_input": "2023-12-08T02:54:46.020004Z",
          "iopub.status.idle": "2023-12-08T03:32:21.89419Z",
          "shell.execute_reply.started": "2023-12-08T02:54:46.019954Z",
          "shell.execute_reply": "2023-12-08T03:32:21.893013Z"
        },
        "trusted": true,
        "colab": {
          "base_uri": "https://localhost:8080/",
          "height": 250
        },
        "id": "PilCJ1jQzo-g",
        "outputId": "ccb7cf1e-446f-426c-fdf2-0f63e7ca1cfc"
      },
      "execution_count": null,
      "outputs": [
        {
          "output_type": "stream",
          "name": "stderr",
          "text": [
            "/usr/local/lib/python3.10/dist-packages/transformers/training_args.py:1568: FutureWarning: `evaluation_strategy` is deprecated and will be removed in version 4.46 of 🤗 Transformers. Use `eval_strategy` instead\n",
            "  warnings.warn(\n",
            "<ipython-input-31-021e2f86ab0a>:14: FutureWarning: `tokenizer` is deprecated and will be removed in version 5.0.0 for `Trainer.__init__`. Use `processing_class` instead.\n",
            "  trainer = Trainer(\n"
          ]
        },
        {
          "output_type": "display_data",
          "data": {
            "text/plain": [
              "<IPython.core.display.HTML object>"
            ],
            "text/html": [
              "\n",
              "    <div>\n",
              "      \n",
              "      <progress value='225' max='225' style='width:300px; height:20px; vertical-align: middle;'></progress>\n",
              "      [225/225 06:20, Epoch 1/1]\n",
              "    </div>\n",
              "    <table border=\"1\" class=\"dataframe\">\n",
              "  <thead>\n",
              " <tr style=\"text-align: left;\">\n",
              "      <th>Epoch</th>\n",
              "      <th>Training Loss</th>\n",
              "      <th>Validation Loss</th>\n",
              "      <th>Accuracy</th>\n",
              "    </tr>\n",
              "  </thead>\n",
              "  <tbody>\n",
              "    <tr>\n",
              "      <td>1</td>\n",
              "      <td>No log</td>\n",
              "      <td>2.877321</td>\n",
              "      <td>0.320000</td>\n",
              "    </tr>\n",
              "  </tbody>\n",
              "</table><p>"
            ]
          },
          "metadata": {}
        },
        {
          "output_type": "execute_result",
          "data": {
            "text/plain": [
              "TrainOutput(global_step=225, training_loss=3.421096462673611, metrics={'train_runtime': 382.2538, 'train_samples_per_second': 9.418, 'train_steps_per_second': 0.589, 'total_flos': 948016233676800.0, 'train_loss': 3.421096462673611, 'epoch': 1.0})"
            ]
          },
          "metadata": {},
          "execution_count": 31
        }
      ]
    },
    {
      "cell_type": "markdown",
      "source": [
        "### Evaluating the trained model"
      ],
      "metadata": {
        "id": "EjbfeEbqzo-g"
      }
    },
    {
      "cell_type": "code",
      "source": [
        "device = 'cuda' if torch.cuda.is_available() else 'cpu'\n",
        "\n",
        "preds = []\n",
        "for i in df_test['code'].values:\n",
        "    with torch.no_grad():\n",
        "        inputs = tokenizer(i, return_tensors=\"pt\",  truncation=True).to(device)\n",
        "        logits = model(**inputs).logits\n",
        "        predicted_class_id = logits.argmax().item()\n",
        "        preds.append(predicted_class_id)"
      ],
      "metadata": {
        "execution": {
          "iopub.status.busy": "2023-12-08T03:35:56.398445Z",
          "iopub.execute_input": "2023-12-08T03:35:56.398932Z",
          "iopub.status.idle": "2023-12-08T03:40:41.540626Z",
          "shell.execute_reply.started": "2023-12-08T03:35:56.398897Z",
          "shell.execute_reply": "2023-12-08T03:40:41.539542Z"
        },
        "trusted": true,
        "id": "7QKtHVZMzo-g"
      },
      "execution_count": null,
      "outputs": []
    },
    {
      "cell_type": "code",
      "source": [
        "y_true = [id2label[i] for i in df_test['label'].values]\n",
        "y_pred = [id2label[i] for i in preds]"
      ],
      "metadata": {
        "execution": {
          "iopub.status.busy": "2023-12-08T03:47:02.625392Z",
          "iopub.execute_input": "2023-12-08T03:47:02.626203Z",
          "iopub.status.idle": "2023-12-08T03:47:02.641192Z",
          "shell.execute_reply.started": "2023-12-08T03:47:02.626161Z",
          "shell.execute_reply": "2023-12-08T03:47:02.640036Z"
        },
        "trusted": true,
        "id": "3H9k9e-Czo-g"
      },
      "execution_count": null,
      "outputs": []
    },
    {
      "cell_type": "code",
      "source": [
        "from sklearn.metrics import classification_report\n",
        "print(classification_report(y_true, y_pred))"
      ],
      "metadata": {
        "execution": {
          "iopub.status.busy": "2023-12-08T03:47:07.8827Z",
          "iopub.execute_input": "2023-12-08T03:47:07.883116Z",
          "iopub.status.idle": "2023-12-08T03:47:08.076899Z",
          "shell.execute_reply.started": "2023-12-08T03:47:07.883082Z",
          "shell.execute_reply": "2023-12-08T03:47:08.075816Z"
        },
        "trusted": true,
        "id": "H1hhb1zXzo-h",
        "colab": {
          "base_uri": "https://localhost:8080/"
        },
        "outputId": "f4f61ea6-ca8a-44c1-bc7c-a01fa2fc598c"
      },
      "execution_count": null,
      "outputs": [
        {
          "output_type": "stream",
          "name": "stdout",
          "text": [
            "              precision    recall  f1-score   support\n",
            "\n",
            "      CWE114       0.00      0.00      0.00        13\n",
            "      CWE121       0.24      0.82      0.37       115\n",
            "      CWE122       0.00      0.00      0.00        67\n",
            "      CWE124       0.00      0.00      0.00        32\n",
            "      CWE126       0.00      0.00      0.00        20\n",
            "      CWE127       0.00      0.00      0.00        37\n",
            "      CWE134       0.47      0.84      0.60        57\n",
            "      CWE188       0.00      0.00      0.00         1\n",
            "      CWE190       0.29      0.98      0.45        96\n",
            "      CWE191       0.06      0.03      0.04        62\n",
            "      CWE194       0.00      0.00      0.00        24\n",
            "      CWE195       0.00      0.00      0.00        26\n",
            "      CWE197       0.00      0.00      0.00        14\n",
            "      CWE222       0.00      0.00      0.00         1\n",
            "      CWE223       0.00      0.00      0.00         1\n",
            "      CWE226       0.00      0.00      0.00         1\n",
            "      CWE244       0.00      0.00      0.00         2\n",
            "      CWE252       0.00      0.00      0.00         9\n",
            "      CWE253       0.00      0.00      0.00        15\n",
            "      CWE256       0.00      0.00      0.00         1\n",
            "      CWE259       0.00      0.00      0.00         1\n",
            "      CWE272       0.00      0.00      0.00         3\n",
            "      CWE273       0.00      0.00      0.00         2\n",
            "      CWE284       0.00      0.00      0.00         3\n",
            "      CWE319       0.00      0.00      0.00         5\n",
            "      CWE321       0.00      0.00      0.00         3\n",
            "      CWE325       0.00      0.00      0.00         1\n",
            "      CWE328       0.00      0.00      0.00         2\n",
            "      CWE366       0.00      0.00      0.00         1\n",
            "      CWE369       0.00      0.00      0.00        23\n",
            "      CWE377       0.00      0.00      0.00         1\n",
            "      CWE390       0.00      0.00      0.00         1\n",
            "      CWE391       0.00      0.00      0.00         1\n",
            "      CWE398       0.00      0.00      0.00         3\n",
            "      CWE400       0.00      0.00      0.00        13\n",
            "      CWE401       0.00      0.00      0.00        24\n",
            "      CWE404       0.00      0.00      0.00         8\n",
            "      CWE415       0.00      0.00      0.00         8\n",
            "      CWE416       0.00      0.00      0.00         2\n",
            "      CWE426       0.00      0.00      0.00         4\n",
            "      CWE427       0.00      0.00      0.00         7\n",
            "      CWE457       0.00      0.00      0.00        12\n",
            "      CWE467       0.00      0.00      0.00         2\n",
            "      CWE468       0.00      0.00      0.00         1\n",
            "      CWE469       0.00      0.00      0.00         2\n",
            "      CWE476       0.00      0.00      0.00         6\n",
            "      CWE480       0.00      0.00      0.00         1\n",
            "      CWE481       0.00      0.00      0.00         1\n",
            "      CWE483       0.00      0.00      0.00         1\n",
            "      CWE506       0.00      0.00      0.00         4\n",
            "      CWE510       0.00      0.00      0.00         1\n",
            "      CWE511       0.00      0.00      0.00         3\n",
            "      CWE546       0.00      0.00      0.00         5\n",
            "      CWE563       0.00      0.00      0.00         7\n",
            "      CWE571       0.00      0.00      0.00         1\n",
            "      CWE590       0.00      0.00      0.00        19\n",
            "      CWE591       0.00      0.00      0.00         3\n",
            "      CWE606       0.00      0.00      0.00        13\n",
            "      CWE617       0.00      0.00      0.00         9\n",
            "      CWE620       0.00      0.00      0.00         1\n",
            "      CWE665       0.00      0.00      0.00         2\n",
            "      CWE666       0.00      0.00      0.00         4\n",
            "      CWE667       0.00      0.00      0.00         1\n",
            "      CWE675       0.00      0.00      0.00         8\n",
            "      CWE680       0.00      0.00      0.00         5\n",
            "      CWE681       0.00      0.00      0.00         1\n",
            "      CWE690       0.00      0.00      0.00        19\n",
            "      CWE758       0.00      0.00      0.00         5\n",
            "      CWE761       0.00      0.00      0.00        13\n",
            "      CWE773       0.00      0.00      0.00         7\n",
            "      CWE775       0.00      0.00      0.00         2\n",
            "       CWE78       0.82      1.00      0.90       113\n",
            "      CWE789       0.00      0.00      0.00        11\n",
            "      CWE843       0.00      0.00      0.00         1\n",
            "       CWE90       0.00      0.00      0.00         6\n",
            "\n",
            "    accuracy                           0.35      1000\n",
            "   macro avg       0.02      0.05      0.03      1000\n",
            "weighted avg       0.18      0.35      0.22      1000\n",
            "\n"
          ]
        },
        {
          "output_type": "stream",
          "name": "stderr",
          "text": [
            "/usr/local/lib/python3.10/dist-packages/sklearn/metrics/_classification.py:1531: UndefinedMetricWarning: Precision is ill-defined and being set to 0.0 in labels with no predicted samples. Use `zero_division` parameter to control this behavior.\n",
            "  _warn_prf(average, modifier, f\"{metric.capitalize()} is\", len(result))\n",
            "/usr/local/lib/python3.10/dist-packages/sklearn/metrics/_classification.py:1531: UndefinedMetricWarning: Precision is ill-defined and being set to 0.0 in labels with no predicted samples. Use `zero_division` parameter to control this behavior.\n",
            "  _warn_prf(average, modifier, f\"{metric.capitalize()} is\", len(result))\n",
            "/usr/local/lib/python3.10/dist-packages/sklearn/metrics/_classification.py:1531: UndefinedMetricWarning: Precision is ill-defined and being set to 0.0 in labels with no predicted samples. Use `zero_division` parameter to control this behavior.\n",
            "  _warn_prf(average, modifier, f\"{metric.capitalize()} is\", len(result))\n"
          ]
        }
      ]
    },
    {
      "cell_type": "code",
      "source": [],
      "metadata": {
        "id": "X9nGsZmOzo-i"
      },
      "execution_count": null,
      "outputs": []
    }
  ]
}